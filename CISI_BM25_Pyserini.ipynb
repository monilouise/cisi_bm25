{
  "nbformat": 4,
  "nbformat_minor": 0,
  "metadata": {
    "colab": {
      "provenance": []
    },
    "kernelspec": {
      "name": "python3",
      "display_name": "Python 3"
    },
    "language_info": {
      "name": "python"
    }
  },
  "cells": [
    {
      "cell_type": "markdown",
      "source": [
        "# Pyserini Library"
      ],
      "metadata": {
        "id": "OfKjzS9Tg58_"
      }
    },
    {
      "cell_type": "markdown",
      "source": [
        "Reading and processing the CISI.ALL file, which contains the documents to be searched/retrieved."
      ],
      "metadata": {
        "id": "83hr0qRJhVu5"
      }
    },
    {
      "cell_type": "code",
      "source": [
        "with open('CISI.ALL', 'r') as file:\n",
        "    content = file.read()"
      ],
      "metadata": {
        "id": "8NOevmkChSkt"
      },
      "execution_count": 1,
      "outputs": []
    },
    {
      "cell_type": "code",
      "source": [
        "documents = content.split('.I ')"
      ],
      "metadata": {
        "id": "MVVFRNphhOTV"
      },
      "execution_count": 2,
      "outputs": []
    },
    {
      "cell_type": "markdown",
      "source": [
        "For each document, the title, author, and text are concatenated to assist in information retrieval."
      ],
      "metadata": {
        "id": "gmc-RnfQhKY3"
      }
    },
    {
      "cell_type": "code",
      "source": [
        "docs = []\n",
        "for i, document in enumerate(documents):\n",
        "  title = document[document.find('\\n.T') + 3:document.find('\\n.A')].strip()\n",
        "  author = document[document.find('\\n.A') + 3: document.find('\\n.W')].strip()\n",
        "  text = document[document.find('\\n.W') + 3: document.find('\\n.X')].strip()\n",
        "  doc = title + ' ' + author + ' ' + text\n",
        "  docs.append(doc)"
      ],
      "metadata": {
        "id": "jgGIlTREhHiu"
      },
      "execution_count": 3,
      "outputs": []
    },
    {
      "cell_type": "markdown",
      "source": [
        "Firstly, it is necessary to convert the documents to one of the formats accepted by the library. Here we will use the JSONL format."
      ],
      "metadata": {
        "id": "5aag4heahg35"
      }
    },
    {
      "cell_type": "code",
      "source": [
        "import json\n",
        "import os\n",
        "\n",
        "directory = \"json\"\n",
        "\n",
        "if not os.path.exists(directory):\n",
        "    os.makedirs(directory)\n",
        "\n",
        "data = []\n",
        "for i in range(1, len(docs)):\n",
        "  row = {\"id\":i, \"contents\":docs[i]}\n",
        "  data.append(row)\n",
        "\n",
        "with open('json/CISI.jsonl', 'w') as outfile:\n",
        "    for d in data:\n",
        "        json.dump(d, outfile)\n",
        "        outfile.write('\\n')\n"
      ],
      "metadata": {
        "id": "rcWX05SNg6Vy"
      },
      "execution_count": 4,
      "outputs": []
    },
    {
      "cell_type": "code",
      "source": [
        "!pip install pyserini"
      ],
      "metadata": {
        "colab": {
          "base_uri": "https://localhost:8080/"
        },
        "id": "04Gx3CEdhBRY",
        "outputId": "ee7eaba0-6f67-47f0-a4a7-0d05efe263e8"
      },
      "execution_count": 5,
      "outputs": [
        {
          "output_type": "stream",
          "name": "stdout",
          "text": [
            "Looking in indexes: https://pypi.org/simple, https://us-python.pkg.dev/colab-wheels/public/simple/\n",
            "Collecting pyserini\n",
            "  Downloading pyserini-0.20.0-py3-none-any.whl (137.1 MB)\n",
            "\u001b[2K     \u001b[90m━━━━━━━━━━━━━━━━━━━━━━━━━━━━━━━━━━━━━━━\u001b[0m \u001b[32m137.1/137.1 MB\u001b[0m \u001b[31m8.2 MB/s\u001b[0m eta \u001b[36m0:00:00\u001b[0m\n",
            "\u001b[?25hRequirement already satisfied: spacy>=3.2.1 in /usr/local/lib/python3.8/dist-packages (from pyserini) (3.4.4)\n",
            "Requirement already satisfied: Cython>=0.29.21 in /usr/local/lib/python3.8/dist-packages (from pyserini) (0.29.33)\n",
            "Requirement already satisfied: scikit-learn>=0.22.1 in /usr/local/lib/python3.8/dist-packages (from pyserini) (1.0.2)\n",
            "Collecting nmslib>=2.1.1\n",
            "  Downloading nmslib-2.1.1-cp38-cp38-manylinux2010_x86_64.whl (13.4 MB)\n",
            "\u001b[2K     \u001b[90m━━━━━━━━━━━━━━━━━━━━━━━━━━━━━━━━━━━━━━━━\u001b[0m \u001b[32m13.4/13.4 MB\u001b[0m \u001b[31m71.8 MB/s\u001b[0m eta \u001b[36m0:00:00\u001b[0m\n",
            "\u001b[?25hCollecting sentencepiece>=0.1.95\n",
            "  Downloading sentencepiece-0.1.97-cp38-cp38-manylinux_2_17_x86_64.manylinux2014_x86_64.whl (1.3 MB)\n",
            "\u001b[2K     \u001b[90m━━━━━━━━━━━━━━━━━━━━━━━━━━━━━━━━━━━━━━━━\u001b[0m \u001b[32m1.3/1.3 MB\u001b[0m \u001b[31m66.2 MB/s\u001b[0m eta \u001b[36m0:00:00\u001b[0m\n",
            "\u001b[?25hCollecting pandas>=1.4.0\n",
            "  Downloading pandas-1.5.3-cp38-cp38-manylinux_2_17_x86_64.manylinux2014_x86_64.whl (12.2 MB)\n",
            "\u001b[2K     \u001b[90m━━━━━━━━━━━━━━━━━━━━━━━━━━━━━━━━━━━━━━━━\u001b[0m \u001b[32m12.2/12.2 MB\u001b[0m \u001b[31m77.3 MB/s\u001b[0m eta \u001b[36m0:00:00\u001b[0m\n",
            "\u001b[?25hCollecting transformers>=4.6.0\n",
            "  Downloading transformers-4.26.1-py3-none-any.whl (6.3 MB)\n",
            "\u001b[2K     \u001b[90m━━━━━━━━━━━━━━━━━━━━━━━━━━━━━━━━━━━━━━━━\u001b[0m \u001b[32m6.3/6.3 MB\u001b[0m \u001b[31m72.9 MB/s\u001b[0m eta \u001b[36m0:00:00\u001b[0m\n",
            "\u001b[?25hRequirement already satisfied: scipy>=1.4.1 in /usr/local/lib/python3.8/dist-packages (from pyserini) (1.7.3)\n",
            "Collecting pyjnius>=1.4.0\n",
            "  Downloading pyjnius-1.4.2-cp38-cp38-manylinux_2_17_x86_64.manylinux2014_x86_64.whl (1.5 MB)\n",
            "\u001b[2K     \u001b[90m━━━━━━━━━━━━━━━━━━━━━━━━━━━━━━━━━━━━━━━━\u001b[0m \u001b[32m1.5/1.5 MB\u001b[0m \u001b[31m64.8 MB/s\u001b[0m eta \u001b[36m0:00:00\u001b[0m\n",
            "\u001b[?25hRequirement already satisfied: tqdm in /usr/local/lib/python3.8/dist-packages (from pyserini) (4.64.1)\n",
            "Collecting onnxruntime>=1.8.1\n",
            "  Downloading onnxruntime-1.14.0-cp38-cp38-manylinux_2_27_x86_64.whl (5.0 MB)\n",
            "\u001b[2K     \u001b[90m━━━━━━━━━━━━━━━━━━━━━━━━━━━━━━━━━━━━━━━━\u001b[0m \u001b[32m5.0/5.0 MB\u001b[0m \u001b[31m80.7 MB/s\u001b[0m eta \u001b[36m0:00:00\u001b[0m\n",
            "\u001b[?25hRequirement already satisfied: numpy>=1.18.1 in /usr/local/lib/python3.8/dist-packages (from pyserini) (1.22.4)\n",
            "Collecting lightgbm>=3.3.2\n",
            "  Downloading lightgbm-3.3.5-py3-none-manylinux1_x86_64.whl (2.0 MB)\n",
            "\u001b[2K     \u001b[90m━━━━━━━━━━━━━━━━━━━━━━━━━━━━━━━━━━━━━━━━\u001b[0m \u001b[32m2.0/2.0 MB\u001b[0m \u001b[31m76.6 MB/s\u001b[0m eta \u001b[36m0:00:00\u001b[0m\n",
            "\u001b[?25hRequirement already satisfied: wheel in /usr/local/lib/python3.8/dist-packages (from lightgbm>=3.3.2->pyserini) (0.38.4)\n",
            "Collecting pybind11<2.6.2\n",
            "  Downloading pybind11-2.6.1-py2.py3-none-any.whl (188 kB)\n",
            "\u001b[2K     \u001b[90m━━━━━━━━━━━━━━━━━━━━━━━━━━━━━━━━━━━━━━\u001b[0m \u001b[32m188.5/188.5 KB\u001b[0m \u001b[31m22.0 MB/s\u001b[0m eta \u001b[36m0:00:00\u001b[0m\n",
            "\u001b[?25hRequirement already satisfied: psutil in /usr/local/lib/python3.8/dist-packages (from nmslib>=2.1.1->pyserini) (5.4.8)\n",
            "Requirement already satisfied: protobuf in /usr/local/lib/python3.8/dist-packages (from onnxruntime>=1.8.1->pyserini) (3.19.6)\n",
            "Requirement already satisfied: packaging in /usr/local/lib/python3.8/dist-packages (from onnxruntime>=1.8.1->pyserini) (23.0)\n",
            "Requirement already satisfied: flatbuffers in /usr/local/lib/python3.8/dist-packages (from onnxruntime>=1.8.1->pyserini) (23.1.21)\n",
            "Requirement already satisfied: sympy in /usr/local/lib/python3.8/dist-packages (from onnxruntime>=1.8.1->pyserini) (1.7.1)\n",
            "Collecting coloredlogs\n",
            "  Downloading coloredlogs-15.0.1-py2.py3-none-any.whl (46 kB)\n",
            "\u001b[2K     \u001b[90m━━━━━━━━━━━━━━━━━━━━━━━━━━━━━━━━━━━━━━━━\u001b[0m \u001b[32m46.0/46.0 KB\u001b[0m \u001b[31m5.3 MB/s\u001b[0m eta \u001b[36m0:00:00\u001b[0m\n",
            "\u001b[?25hRequirement already satisfied: pytz>=2020.1 in /usr/local/lib/python3.8/dist-packages (from pandas>=1.4.0->pyserini) (2022.7.1)\n",
            "Requirement already satisfied: python-dateutil>=2.8.1 in /usr/local/lib/python3.8/dist-packages (from pandas>=1.4.0->pyserini) (2.8.2)\n",
            "Requirement already satisfied: six>=1.7.0 in /usr/local/lib/python3.8/dist-packages (from pyjnius>=1.4.0->pyserini) (1.15.0)\n",
            "Requirement already satisfied: threadpoolctl>=2.0.0 in /usr/local/lib/python3.8/dist-packages (from scikit-learn>=0.22.1->pyserini) (3.1.0)\n",
            "Requirement already satisfied: joblib>=0.11 in /usr/local/lib/python3.8/dist-packages (from scikit-learn>=0.22.1->pyserini) (1.2.0)\n",
            "Requirement already satisfied: spacy-legacy<3.1.0,>=3.0.10 in /usr/local/lib/python3.8/dist-packages (from spacy>=3.2.1->pyserini) (3.0.12)\n",
            "Requirement already satisfied: typer<0.8.0,>=0.3.0 in /usr/local/lib/python3.8/dist-packages (from spacy>=3.2.1->pyserini) (0.7.0)\n",
            "Requirement already satisfied: jinja2 in /usr/local/lib/python3.8/dist-packages (from spacy>=3.2.1->pyserini) (2.11.3)\n",
            "Requirement already satisfied: catalogue<2.1.0,>=2.0.6 in /usr/local/lib/python3.8/dist-packages (from spacy>=3.2.1->pyserini) (2.0.8)\n",
            "Requirement already satisfied: pydantic!=1.8,!=1.8.1,<1.11.0,>=1.7.4 in /usr/local/lib/python3.8/dist-packages (from spacy>=3.2.1->pyserini) (1.10.5)\n",
            "Requirement already satisfied: smart-open<7.0.0,>=5.2.1 in /usr/local/lib/python3.8/dist-packages (from spacy>=3.2.1->pyserini) (6.3.0)\n",
            "Requirement already satisfied: wasabi<1.1.0,>=0.9.1 in /usr/local/lib/python3.8/dist-packages (from spacy>=3.2.1->pyserini) (0.10.1)\n",
            "Requirement already satisfied: pathy>=0.3.5 in /usr/local/lib/python3.8/dist-packages (from spacy>=3.2.1->pyserini) (0.10.1)\n",
            "Requirement already satisfied: spacy-loggers<2.0.0,>=1.0.0 in /usr/local/lib/python3.8/dist-packages (from spacy>=3.2.1->pyserini) (1.0.4)\n",
            "Requirement already satisfied: requests<3.0.0,>=2.13.0 in /usr/local/lib/python3.8/dist-packages (from spacy>=3.2.1->pyserini) (2.25.1)\n",
            "Requirement already satisfied: thinc<8.2.0,>=8.1.0 in /usr/local/lib/python3.8/dist-packages (from spacy>=3.2.1->pyserini) (8.1.7)\n",
            "Requirement already satisfied: srsly<3.0.0,>=2.4.3 in /usr/local/lib/python3.8/dist-packages (from spacy>=3.2.1->pyserini) (2.4.5)\n",
            "Requirement already satisfied: setuptools in /usr/local/lib/python3.8/dist-packages (from spacy>=3.2.1->pyserini) (57.4.0)\n",
            "Requirement already satisfied: murmurhash<1.1.0,>=0.28.0 in /usr/local/lib/python3.8/dist-packages (from spacy>=3.2.1->pyserini) (1.0.9)\n",
            "Requirement already satisfied: langcodes<4.0.0,>=3.2.0 in /usr/local/lib/python3.8/dist-packages (from spacy>=3.2.1->pyserini) (3.3.0)\n",
            "Requirement already satisfied: preshed<3.1.0,>=3.0.2 in /usr/local/lib/python3.8/dist-packages (from spacy>=3.2.1->pyserini) (3.0.8)\n",
            "Requirement already satisfied: cymem<2.1.0,>=2.0.2 in /usr/local/lib/python3.8/dist-packages (from spacy>=3.2.1->pyserini) (2.0.7)\n",
            "Requirement already satisfied: pyyaml>=5.1 in /usr/local/lib/python3.8/dist-packages (from transformers>=4.6.0->pyserini) (6.0)\n",
            "Requirement already satisfied: regex!=2019.12.17 in /usr/local/lib/python3.8/dist-packages (from transformers>=4.6.0->pyserini) (2022.6.2)\n",
            "Requirement already satisfied: filelock in /usr/local/lib/python3.8/dist-packages (from transformers>=4.6.0->pyserini) (3.9.0)\n",
            "Collecting tokenizers!=0.11.3,<0.14,>=0.11.1\n",
            "  Downloading tokenizers-0.13.2-cp38-cp38-manylinux_2_17_x86_64.manylinux2014_x86_64.whl (7.6 MB)\n",
            "\u001b[2K     \u001b[90m━━━━━━━━━━━━━━━━━━━━━━━━━━━━━━━━━━━━━━━━\u001b[0m \u001b[32m7.6/7.6 MB\u001b[0m \u001b[31m67.7 MB/s\u001b[0m eta \u001b[36m0:00:00\u001b[0m\n",
            "\u001b[?25hCollecting huggingface-hub<1.0,>=0.11.0\n",
            "  Downloading huggingface_hub-0.12.1-py3-none-any.whl (190 kB)\n",
            "\u001b[2K     \u001b[90m━━━━━━━━━━━━━━━━━━━━━━━━━━━━━━━━━━━━━━\u001b[0m \u001b[32m190.3/190.3 KB\u001b[0m \u001b[31m18.8 MB/s\u001b[0m eta \u001b[36m0:00:00\u001b[0m\n",
            "\u001b[?25hRequirement already satisfied: typing-extensions>=3.7.4.3 in /usr/local/lib/python3.8/dist-packages (from huggingface-hub<1.0,>=0.11.0->transformers>=4.6.0->pyserini) (4.5.0)\n",
            "Requirement already satisfied: chardet<5,>=3.0.2 in /usr/local/lib/python3.8/dist-packages (from requests<3.0.0,>=2.13.0->spacy>=3.2.1->pyserini) (4.0.0)\n",
            "Requirement already satisfied: idna<3,>=2.5 in /usr/local/lib/python3.8/dist-packages (from requests<3.0.0,>=2.13.0->spacy>=3.2.1->pyserini) (2.10)\n",
            "Requirement already satisfied: urllib3<1.27,>=1.21.1 in /usr/local/lib/python3.8/dist-packages (from requests<3.0.0,>=2.13.0->spacy>=3.2.1->pyserini) (1.24.3)\n",
            "Requirement already satisfied: certifi>=2017.4.17 in /usr/local/lib/python3.8/dist-packages (from requests<3.0.0,>=2.13.0->spacy>=3.2.1->pyserini) (2022.12.7)\n",
            "Requirement already satisfied: confection<1.0.0,>=0.0.1 in /usr/local/lib/python3.8/dist-packages (from thinc<8.2.0,>=8.1.0->spacy>=3.2.1->pyserini) (0.0.4)\n",
            "Requirement already satisfied: blis<0.8.0,>=0.7.8 in /usr/local/lib/python3.8/dist-packages (from thinc<8.2.0,>=8.1.0->spacy>=3.2.1->pyserini) (0.7.9)\n",
            "Requirement already satisfied: click<9.0.0,>=7.1.1 in /usr/local/lib/python3.8/dist-packages (from typer<0.8.0,>=0.3.0->spacy>=3.2.1->pyserini) (7.1.2)\n",
            "Collecting humanfriendly>=9.1\n",
            "  Downloading humanfriendly-10.0-py2.py3-none-any.whl (86 kB)\n",
            "\u001b[2K     \u001b[90m━━━━━━━━━━━━━━━━━━━━━━━━━━━━━━━━━━━━━━━━\u001b[0m \u001b[32m86.8/86.8 KB\u001b[0m \u001b[31m10.3 MB/s\u001b[0m eta \u001b[36m0:00:00\u001b[0m\n",
            "\u001b[?25hRequirement already satisfied: MarkupSafe>=0.23 in /usr/local/lib/python3.8/dist-packages (from jinja2->spacy>=3.2.1->pyserini) (2.0.1)\n",
            "Requirement already satisfied: mpmath>=0.19 in /usr/local/lib/python3.8/dist-packages (from sympy->onnxruntime>=1.8.1->pyserini) (1.2.1)\n",
            "Installing collected packages: tokenizers, sentencepiece, pyjnius, pybind11, humanfriendly, pandas, nmslib, huggingface-hub, coloredlogs, transformers, onnxruntime, lightgbm, pyserini\n",
            "  Attempting uninstall: pandas\n",
            "    Found existing installation: pandas 1.3.5\n",
            "    Uninstalling pandas-1.3.5:\n",
            "      Successfully uninstalled pandas-1.3.5\n",
            "  Attempting uninstall: lightgbm\n",
            "    Found existing installation: lightgbm 2.2.3\n",
            "    Uninstalling lightgbm-2.2.3:\n",
            "      Successfully uninstalled lightgbm-2.2.3\n",
            "Successfully installed coloredlogs-15.0.1 huggingface-hub-0.12.1 humanfriendly-10.0 lightgbm-3.3.5 nmslib-2.1.1 onnxruntime-1.14.0 pandas-1.5.3 pybind11-2.6.1 pyjnius-1.4.2 pyserini-0.20.0 sentencepiece-0.1.97 tokenizers-0.13.2 transformers-4.26.1\n"
          ]
        }
      ]
    },
    {
      "cell_type": "code",
      "source": [
        "!python -m pyserini.index.lucene \\\n",
        "  --collection JsonCollection \\\n",
        "  --input json \\\n",
        "  --index indexes/cisi_jsonl \\\n",
        "  --generator DefaultLuceneDocumentGenerator \\\n",
        "  --threads 1 \\\n",
        "  --storePositions --storeDocvectors --storeRaw"
      ],
      "metadata": {
        "colab": {
          "base_uri": "https://localhost:8080/"
        },
        "id": "oKRpD85EhmCO",
        "outputId": "34e47908-084e-4760-d340-fec3d95bc25d"
      },
      "execution_count": 6,
      "outputs": [
        {
          "output_type": "stream",
          "name": "stdout",
          "text": [
            "WARNING: sun.reflect.Reflection.getCallerClass is not supported. This will impact performance.\n",
            "2023-02-22 20:05:44,772 INFO  [main] index.IndexCollection (IndexCollection.java:391) - Setting log level to INFO\n",
            "2023-02-22 20:05:44,776 INFO  [main] index.IndexCollection (IndexCollection.java:394) - Starting indexer...\n",
            "2023-02-22 20:05:44,776 INFO  [main] index.IndexCollection (IndexCollection.java:395) - ============ Loading Parameters ============\n",
            "2023-02-22 20:05:44,776 INFO  [main] index.IndexCollection (IndexCollection.java:396) - DocumentCollection path: json\n",
            "2023-02-22 20:05:44,777 INFO  [main] index.IndexCollection (IndexCollection.java:397) - CollectionClass: JsonCollection\n",
            "2023-02-22 20:05:44,777 INFO  [main] index.IndexCollection (IndexCollection.java:398) - Generator: DefaultLuceneDocumentGenerator\n",
            "2023-02-22 20:05:44,778 INFO  [main] index.IndexCollection (IndexCollection.java:399) - Threads: 1\n",
            "2023-02-22 20:05:44,778 INFO  [main] index.IndexCollection (IndexCollection.java:400) - Language: en\n",
            "2023-02-22 20:05:44,778 INFO  [main] index.IndexCollection (IndexCollection.java:401) - Stemmer: porter\n",
            "2023-02-22 20:05:44,779 INFO  [main] index.IndexCollection (IndexCollection.java:402) - Keep stopwords? false\n",
            "2023-02-22 20:05:44,779 INFO  [main] index.IndexCollection (IndexCollection.java:403) - Stopwords: null\n",
            "2023-02-22 20:05:44,779 INFO  [main] index.IndexCollection (IndexCollection.java:404) - Store positions? true\n",
            "2023-02-22 20:05:44,780 INFO  [main] index.IndexCollection (IndexCollection.java:405) - Store docvectors? true\n",
            "2023-02-22 20:05:44,780 INFO  [main] index.IndexCollection (IndexCollection.java:406) - Store document \"contents\" field? false\n",
            "2023-02-22 20:05:44,780 INFO  [main] index.IndexCollection (IndexCollection.java:407) - Store document \"raw\" field? true\n",
            "2023-02-22 20:05:44,781 INFO  [main] index.IndexCollection (IndexCollection.java:408) - Additional fields to index: []\n",
            "2023-02-22 20:05:44,781 INFO  [main] index.IndexCollection (IndexCollection.java:409) - Optimize (merge segments)? false\n",
            "2023-02-22 20:05:44,782 INFO  [main] index.IndexCollection (IndexCollection.java:410) - Whitelist: null\n",
            "2023-02-22 20:05:44,782 INFO  [main] index.IndexCollection (IndexCollection.java:411) - Pretokenized?: false\n",
            "2023-02-22 20:05:44,783 INFO  [main] index.IndexCollection (IndexCollection.java:412) - Index path: indexes/cisi_jsonl\n",
            "2023-02-22 20:05:44,789 INFO  [main] index.IndexCollection (IndexCollection.java:450) - ============ Indexing Collection ============\n",
            "2023-02-22 20:05:45,368 INFO  [main] index.IndexCollection (IndexCollection.java:565) - Thread pool with 1 threads initialized.\n",
            "2023-02-22 20:05:45,369 INFO  [main] index.IndexCollection (IndexCollection.java:567) - Initializing collection in json\n",
            "2023-02-22 20:05:45,377 INFO  [main] index.IndexCollection (IndexCollection.java:576) - 1 file found\n",
            "2023-02-22 20:05:45,377 INFO  [main] index.IndexCollection (IndexCollection.java:577) - Starting to index...\n",
            "2023-02-22 20:05:48,152 DEBUG [pool-2-thread-1] index.IndexCollection$LocalIndexerThread (IndexCollection.java:356) - json/CISI.jsonl: 1460 docs added.\n",
            "2023-02-22 20:05:49,630 INFO  [main] index.IndexCollection (IndexCollection.java:633) - Indexing Complete! 1,460 documents indexed\n",
            "2023-02-22 20:05:49,631 INFO  [main] index.IndexCollection (IndexCollection.java:634) - ============ Final Counter Values ============\n",
            "2023-02-22 20:05:49,631 INFO  [main] index.IndexCollection (IndexCollection.java:635) - indexed:            1,460\n",
            "2023-02-22 20:05:49,632 INFO  [main] index.IndexCollection (IndexCollection.java:636) - unindexable:            0\n",
            "2023-02-22 20:05:49,632 INFO  [main] index.IndexCollection (IndexCollection.java:637) - empty:                  0\n",
            "2023-02-22 20:05:49,632 INFO  [main] index.IndexCollection (IndexCollection.java:638) - skipped:                0\n",
            "2023-02-22 20:05:49,632 INFO  [main] index.IndexCollection (IndexCollection.java:639) - errors:                 0\n",
            "2023-02-22 20:05:49,662 INFO  [main] index.IndexCollection (IndexCollection.java:642) - Total 1,460 documents indexed in 00:00:04\n"
          ]
        }
      ]
    },
    {
      "cell_type": "markdown",
      "source": [
        "Additionally, it is necessary to convert the queries to the format expected by the library."
      ],
      "metadata": {
        "id": "qV-eWt8Rietq"
      }
    },
    {
      "cell_type": "markdown",
      "source": [
        "Reading and processing the CISI.QRY file, which contains the queries."
      ],
      "metadata": {
        "id": "tv7GqjtQiydR"
      }
    },
    {
      "cell_type": "code",
      "source": [
        "with open('CISI.QRY', 'r') as file:\n",
        "    content = file.read()"
      ],
      "metadata": {
        "id": "qOWze47ritxI"
      },
      "execution_count": 7,
      "outputs": []
    },
    {
      "cell_type": "code",
      "source": [
        "queries = content.split('.I ')"
      ],
      "metadata": {
        "id": "_ouKX6ETirFE"
      },
      "execution_count": 8,
      "outputs": []
    },
    {
      "cell_type": "code",
      "source": [
        "query_docs = []\n",
        "for query in queries:\n",
        "  text = query[query.find('.W\\n') + 3:].strip()\n",
        "  query_docs.append(text)"
      ],
      "metadata": {
        "id": "5tt2ZrlQioPG"
      },
      "execution_count": 9,
      "outputs": []
    },
    {
      "cell_type": "code",
      "source": [
        "with open('queries.tsv', 'w') as outfile:\n",
        "  for i in range(1, len(query_docs)):\n",
        "    outfile.write(str(i) + '\\t' + query_docs[i].replace('\\n',' '))\n",
        "    outfile.write('\\n')"
      ],
      "metadata": {
        "id": "ltPVwAhzhxEa"
      },
      "execution_count": 10,
      "outputs": []
    },
    {
      "cell_type": "markdown",
      "source": [
        "Reading and processing of the CISI.REL file, which contains the reference/target relevance pairs that relate the queries to the documents."
      ],
      "metadata": {
        "id": "xuXx0YB8jMLc"
      }
    },
    {
      "cell_type": "code",
      "source": [
        "from collections import defaultdict\n",
        "\n",
        "map_query_to_docs = defaultdict(list)\n",
        "total = 0\n",
        "\n",
        "with open('CISI.REL', 'r') as file:\n",
        "    for line in file:\n",
        "        cols = line.split()\n",
        "        query_id = cols[0]\n",
        "        doc_id = cols[1]\n",
        "        map_query_to_docs[int(query_id)].append(int(doc_id))\n",
        "        total += 1"
      ],
      "metadata": {
        "id": "-Vro4dHbjOrL"
      },
      "execution_count": 11,
      "outputs": []
    },
    {
      "cell_type": "markdown",
      "source": [
        "Next, we get the maximum number of hits.\n",
        "\n",
        "As we''ll see later, the command interface of this library requires specifying the number of hits to be considered, making it difficult to use the percentile-based threshold heuristic, as was done with Rank BM25. However, as we will also see later, the results obtained here were better, even with a fixed number of documents to be considered."
      ],
      "metadata": {
        "id": "UkFD6S1ai85N"
      }
    },
    {
      "cell_type": "code",
      "source": [
        "max_hits = 0\n",
        "for v in map_query_to_docs.values():\n",
        "  if len(v) > max_hits:\n",
        "    max_hits = len(v)"
      ],
      "metadata": {
        "id": "MzrwpDSLi9az"
      },
      "execution_count": 12,
      "outputs": []
    },
    {
      "cell_type": "code",
      "source": [
        "max_hits"
      ],
      "metadata": {
        "colab": {
          "base_uri": "https://localhost:8080/"
        },
        "id": "sCgO8og0jAlY",
        "outputId": "e3c914df-298d-450e-8b96-444005fffa07"
      },
      "execution_count": 13,
      "outputs": [
        {
          "output_type": "execute_result",
          "data": {
            "text/plain": [
              "155"
            ]
          },
          "metadata": {},
          "execution_count": 13
        }
      ]
    },
    {
      "cell_type": "markdown",
      "source": [
        "Installation of auxiliary libraries"
      ],
      "metadata": {
        "id": "sktjC5EAjWgx"
      }
    },
    {
      "cell_type": "code",
      "source": [
        "!pip install torch"
      ],
      "metadata": {
        "colab": {
          "base_uri": "https://localhost:8080/"
        },
        "id": "Jdm3cxMHjY2D",
        "outputId": "4f2382d5-f5bc-49fd-8641-d706ea02d013"
      },
      "execution_count": 14,
      "outputs": [
        {
          "output_type": "stream",
          "name": "stdout",
          "text": [
            "Looking in indexes: https://pypi.org/simple, https://us-python.pkg.dev/colab-wheels/public/simple/\n",
            "Requirement already satisfied: torch in /usr/local/lib/python3.8/dist-packages (1.13.1+cu116)\n",
            "Requirement already satisfied: typing-extensions in /usr/local/lib/python3.8/dist-packages (from torch) (4.5.0)\n"
          ]
        }
      ]
    },
    {
      "cell_type": "code",
      "source": [
        "!pip install faiss-cpu"
      ],
      "metadata": {
        "colab": {
          "base_uri": "https://localhost:8080/"
        },
        "id": "e52oT707jZYR",
        "outputId": "9451a8a7-6a19-45e6-dd80-e6b715b55c5b"
      },
      "execution_count": 15,
      "outputs": [
        {
          "output_type": "stream",
          "name": "stdout",
          "text": [
            "Looking in indexes: https://pypi.org/simple, https://us-python.pkg.dev/colab-wheels/public/simple/\n",
            "Collecting faiss-cpu\n",
            "  Downloading faiss_cpu-1.7.3-cp38-cp38-manylinux_2_17_x86_64.manylinux2014_x86_64.whl (17.0 MB)\n",
            "\u001b[2K     \u001b[90m━━━━━━━━━━━━━━━━━━━━━━━━━━━━━━━━━━━━━━━━\u001b[0m \u001b[32m17.0/17.0 MB\u001b[0m \u001b[31m54.5 MB/s\u001b[0m eta \u001b[36m0:00:00\u001b[0m\n",
            "\u001b[?25hInstalling collected packages: faiss-cpu\n",
            "Successfully installed faiss-cpu-1.7.3\n"
          ]
        }
      ]
    },
    {
      "cell_type": "markdown",
      "source": [
        "Execution of a test with hyperparameter values according to the documentation. Before the hyperparameter tuning step, it is important to highlight that the recall and F-1 metrics exceed those obtained by the Rank BM25 library implementations."
      ],
      "metadata": {
        "id": "q4ONuvfdjhTM"
      }
    },
    {
      "cell_type": "code",
      "source": [
        "!python -m pyserini.search.lucene \\\n",
        "  --index indexes/cisi_jsonl \\\n",
        "  --topics queries.tsv \\\n",
        "  --output runs/run.txt \\\n",
        "  --output-format msmarco \\\n",
        "  --hits 155 \\\n",
        "  --bm25 --k1 0.82 --b 0.68"
      ],
      "metadata": {
        "colab": {
          "base_uri": "https://localhost:8080/"
        },
        "id": "Gpxg07hmjiNY",
        "outputId": "0e14c449-179a-43c3-ce62-fc2c1f11c2c9"
      },
      "execution_count": 16,
      "outputs": [
        {
          "output_type": "stream",
          "name": "stdout",
          "text": [
            "2023-02-22 20:13:52.584112: I tensorflow/core/platform/cpu_feature_guard.cc:193] This TensorFlow binary is optimized with oneAPI Deep Neural Network Library (oneDNN) to use the following CPU instructions in performance-critical operations:  AVX2 FMA\n",
            "To enable them in other operations, rebuild TensorFlow with the appropriate compiler flags.\n",
            "2023-02-22 20:13:54.719929: W tensorflow/compiler/xla/stream_executor/platform/default/dso_loader.cc:64] Could not load dynamic library 'libnvinfer.so.7'; dlerror: libnvinfer.so.7: cannot open shared object file: No such file or directory; LD_LIBRARY_PATH: /usr/local/nvidia/lib:/usr/local/nvidia/lib64\n",
            "2023-02-22 20:13:54.720160: W tensorflow/compiler/xla/stream_executor/platform/default/dso_loader.cc:64] Could not load dynamic library 'libnvinfer_plugin.so.7'; dlerror: libnvinfer_plugin.so.7: cannot open shared object file: No such file or directory; LD_LIBRARY_PATH: /usr/local/nvidia/lib:/usr/local/nvidia/lib64\n",
            "2023-02-22 20:13:54.720192: W tensorflow/compiler/tf2tensorrt/utils/py_utils.cc:38] TF-TRT Warning: Cannot dlopen some TensorRT libraries. If you would like to use Nvidia GPU with TensorRT, please make sure the missing libraries mentioned above are installed properly.\n",
            "Setting BM25 parameters: k1=0.82, b=0.68\n",
            "Running queries.tsv topics, saving to runs/run.txt...\n",
            "100% 112/112 [00:03<00:00, 31.02it/s]\n"
          ]
        }
      ]
    },
    {
      "cell_type": "markdown",
      "source": [
        "Evaluation function of the result"
      ],
      "metadata": {
        "id": "Wj7M-pwAjzMK"
      }
    },
    {
      "cell_type": "code",
      "source": [
        "import numpy as np\n",
        "\n",
        "def eval_bm25(filename):\n",
        "  map_retrieved_docs = defaultdict(list)\n",
        "\n",
        "  with open(filename, 'r') as output:\n",
        "    for line in output:\n",
        "      values = line.split()\n",
        "      query_id = values[0]\n",
        "      doc_id = values[1]\n",
        "      map_retrieved_docs[int(query_id)].append(int(doc_id))\n",
        "\n",
        "  query_precision = defaultdict(list)\n",
        "  query_recall = defaultdict(list)\n",
        "\n",
        "  for i in range(1, len(query_docs)):\n",
        "      relevant_docs = map_query_to_docs[i]\n",
        "      if len(relevant_docs) > 0:\n",
        "        retrieved_docs = map_retrieved_docs[i]\n",
        "        relevant_retrieved = 0\n",
        "        for doc in relevant_docs:\n",
        "          if doc in retrieved_docs:\n",
        "            relevant_retrieved += 1\n",
        "        recall = relevant_retrieved/len(relevant_docs)\n",
        "        query_recall[i].append(recall)\n",
        "\n",
        "        retrieved_relevant = 0\n",
        "        for doc in retrieved_docs:\n",
        "          if doc in relevant_docs:\n",
        "            retrieved_relevant += 1\n",
        "        precision = retrieved_relevant/len(retrieved_docs)\n",
        "        query_precision[i].append(precision)\n",
        "\n",
        "  map = 0\n",
        "  recall = 0\n",
        "  n = 0\n",
        "  for q in query_precision:\n",
        "    mean_query_precision = sum(query_precision[q])/len(query_precision[q])\n",
        "    map += mean_query_precision\n",
        "    mean_query_recall = sum(query_recall[q])/len(query_recall[q])\n",
        "    recall += mean_query_recall\n",
        "    n += 1\n",
        "\n",
        "  map = map/n\n",
        "  recall = recall/n\n",
        "  return map, recall"
      ],
      "metadata": {
        "id": "Aexblscojk0K"
      },
      "execution_count": 17,
      "outputs": []
    },
    {
      "cell_type": "code",
      "source": [
        "map, recall = eval_bm25('runs/run.txt')\n",
        "print('MAP = ', map)\n",
        "print('Recall = ', recall)\n",
        "print('F-1 = ', 2*map*recall/(map + recall))"
      ],
      "metadata": {
        "colab": {
          "base_uri": "https://localhost:8080/"
        },
        "id": "P9ngw0iEj5Ck",
        "outputId": "53d44a01-91c8-4130-dc59-baf793609d05"
      },
      "execution_count": 18,
      "outputs": [
        {
          "output_type": "stream",
          "name": "stdout",
          "text": [
            "MAP =  0.1161290322580645\n",
            "Recall =  0.5154883783658808\n",
            "F-1 =  0.18955515004177198\n"
          ]
        }
      ]
    },
    {
      "cell_type": "markdown",
      "source": [
        "Next, there is a grid search that varies:\n",
        "* the k1 hyperparameter, and\n",
        "* the b hyperparameter."
      ],
      "metadata": {
        "id": "44t1MjuOkKV3"
      }
    },
    {
      "cell_type": "code",
      "source": [
        "from IPython import get_ipython\n",
        "ipython = get_ipython()\n",
        "\n",
        "best_map = 0\n",
        "best_k1 = None\n",
        "best_b = None\n",
        "best_recall = 0\n",
        "\n",
        "for k1 in [0.5, 1.0, 1.2, 1.5, 2.0, 2.5, 3.0, 4.0, 5.0]:\n",
        "  for b in [0.25, 0.5, 0.75, 1.0]:\n",
        "    code = ipython.transform_cell(f'!python -m pyserini.search.lucene \\\n",
        "      --index indexes/cisi_jsonl \\\n",
        "      --topics queries.tsv \\\n",
        "      --output runs/run_k1_{k1}_b_{b}.txt \\\n",
        "      --output-format msmarco \\\n",
        "      --hits 155 \\\n",
        "      --bm25 --k1 {k1} --b {b}')\n",
        "    exec(code)\n",
        "\n",
        "    map, recall = eval_bm25(f'runs/run_k1_{k1}_b_{b}.txt')\n",
        "    print('MAP = ', map)\n",
        "    print('Recall = ', recall)\n",
        "    print('F-1 = ', 2*map*recall/(map + recall))\n",
        "\n",
        "    if map > best_map:\n",
        "      best_k1 = k1\n",
        "      best_b = b\n",
        "      best_map = map\n",
        "      best_recall = recall\n",
        "\n",
        "print('Best MAP = ', best_map)\n",
        "print('Recall = ', best_recall)\n",
        "print('Best k1 = ', best_k1)\n",
        "print('Best b = ', best_b)\n",
        "print('Best F-1 = ', 2*best_map*best_recall/(best_map + best_recall))"
      ],
      "metadata": {
        "colab": {
          "base_uri": "https://localhost:8080/"
        },
        "id": "VXb16-sTkIj-",
        "outputId": "31c89e8a-b7cc-4ba5-9ca4-4c560bb735bc"
      },
      "execution_count": 19,
      "outputs": [
        {
          "output_type": "stream",
          "name": "stdout",
          "text": [
            "2023-02-22 20:16:56.481219: I tensorflow/core/platform/cpu_feature_guard.cc:193] This TensorFlow binary is optimized with oneAPI Deep Neural Network Library (oneDNN) to use the following CPU instructions in performance-critical operations:  AVX2 FMA\n",
            "To enable them in other operations, rebuild TensorFlow with the appropriate compiler flags.\n",
            "2023-02-22 20:16:58.304802: W tensorflow/compiler/xla/stream_executor/platform/default/dso_loader.cc:64] Could not load dynamic library 'libnvinfer.so.7'; dlerror: libnvinfer.so.7: cannot open shared object file: No such file or directory; LD_LIBRARY_PATH: /usr/local/nvidia/lib:/usr/local/nvidia/lib64\n",
            "2023-02-22 20:16:58.304995: W tensorflow/compiler/xla/stream_executor/platform/default/dso_loader.cc:64] Could not load dynamic library 'libnvinfer_plugin.so.7'; dlerror: libnvinfer_plugin.so.7: cannot open shared object file: No such file or directory; LD_LIBRARY_PATH: /usr/local/nvidia/lib:/usr/local/nvidia/lib64\n",
            "2023-02-22 20:16:58.305024: W tensorflow/compiler/tf2tensorrt/utils/py_utils.cc:38] TF-TRT Warning: Cannot dlopen some TensorRT libraries. If you would like to use Nvidia GPU with TensorRT, please make sure the missing libraries mentioned above are installed properly.\n",
            "Setting BM25 parameters: k1=0.5, b=0.25\n",
            "Running queries.tsv topics, saving to runs/run_k1_0.5_b_0.25.txt...\n",
            "100% 112/112 [00:03<00:00, 33.54it/s]\n",
            "MAP =  0.1115449915110356\n",
            "Recall =  0.4966174289407739\n",
            "F-1 =  0.18217234420462003\n",
            "2023-02-22 20:17:08.861571: I tensorflow/core/platform/cpu_feature_guard.cc:193] This TensorFlow binary is optimized with oneAPI Deep Neural Network Library (oneDNN) to use the following CPU instructions in performance-critical operations:  AVX2 FMA\n",
            "To enable them in other operations, rebuild TensorFlow with the appropriate compiler flags.\n",
            "2023-02-22 20:17:10.636142: W tensorflow/compiler/xla/stream_executor/platform/default/dso_loader.cc:64] Could not load dynamic library 'libnvinfer.so.7'; dlerror: libnvinfer.so.7: cannot open shared object file: No such file or directory; LD_LIBRARY_PATH: /usr/local/nvidia/lib:/usr/local/nvidia/lib64\n",
            "2023-02-22 20:17:10.636327: W tensorflow/compiler/xla/stream_executor/platform/default/dso_loader.cc:64] Could not load dynamic library 'libnvinfer_plugin.so.7'; dlerror: libnvinfer_plugin.so.7: cannot open shared object file: No such file or directory; LD_LIBRARY_PATH: /usr/local/nvidia/lib:/usr/local/nvidia/lib64\n",
            "2023-02-22 20:17:10.636357: W tensorflow/compiler/tf2tensorrt/utils/py_utils.cc:38] TF-TRT Warning: Cannot dlopen some TensorRT libraries. If you would like to use Nvidia GPU with TensorRT, please make sure the missing libraries mentioned above are installed properly.\n",
            "Setting BM25 parameters: k1=0.5, b=0.5\n",
            "Running queries.tsv topics, saving to runs/run_k1_0.5_b_0.5.txt...\n",
            "100% 112/112 [00:03<00:00, 34.18it/s]\n",
            "MAP =  0.11264855687606108\n",
            "Recall =  0.5009710228374145\n",
            "F-1 =  0.18393696884871308\n",
            "2023-02-22 20:17:24.306690: I tensorflow/core/platform/cpu_feature_guard.cc:193] This TensorFlow binary is optimized with oneAPI Deep Neural Network Library (oneDNN) to use the following CPU instructions in performance-critical operations:  AVX2 FMA\n",
            "To enable them in other operations, rebuild TensorFlow with the appropriate compiler flags.\n",
            "2023-02-22 20:17:26.063924: W tensorflow/compiler/xla/stream_executor/platform/default/dso_loader.cc:64] Could not load dynamic library 'libnvinfer.so.7'; dlerror: libnvinfer.so.7: cannot open shared object file: No such file or directory; LD_LIBRARY_PATH: /usr/local/nvidia/lib:/usr/local/nvidia/lib64\n",
            "2023-02-22 20:17:26.064080: W tensorflow/compiler/xla/stream_executor/platform/default/dso_loader.cc:64] Could not load dynamic library 'libnvinfer_plugin.so.7'; dlerror: libnvinfer_plugin.so.7: cannot open shared object file: No such file or directory; LD_LIBRARY_PATH: /usr/local/nvidia/lib:/usr/local/nvidia/lib64\n",
            "2023-02-22 20:17:26.064105: W tensorflow/compiler/tf2tensorrt/utils/py_utils.cc:38] TF-TRT Warning: Cannot dlopen some TensorRT libraries. If you would like to use Nvidia GPU with TensorRT, please make sure the missing libraries mentioned above are installed properly.\n",
            "Setting BM25 parameters: k1=0.5, b=0.75\n",
            "Running queries.tsv topics, saving to runs/run_k1_0.5_b_0.75.txt...\n",
            "100% 112/112 [00:03<00:00, 35.02it/s]\n",
            "MAP =  0.11332767402376909\n",
            "Recall =  0.506066932890871\n",
            "F-1 =  0.18518530114605586\n",
            "2023-02-22 20:17:37.419280: I tensorflow/core/platform/cpu_feature_guard.cc:193] This TensorFlow binary is optimized with oneAPI Deep Neural Network Library (oneDNN) to use the following CPU instructions in performance-critical operations:  AVX2 FMA\n",
            "To enable them in other operations, rebuild TensorFlow with the appropriate compiler flags.\n",
            "2023-02-22 20:17:38.655906: W tensorflow/compiler/xla/stream_executor/platform/default/dso_loader.cc:64] Could not load dynamic library 'libnvinfer.so.7'; dlerror: libnvinfer.so.7: cannot open shared object file: No such file or directory; LD_LIBRARY_PATH: /usr/local/nvidia/lib:/usr/local/nvidia/lib64\n",
            "2023-02-22 20:17:38.656047: W tensorflow/compiler/xla/stream_executor/platform/default/dso_loader.cc:64] Could not load dynamic library 'libnvinfer_plugin.so.7'; dlerror: libnvinfer_plugin.so.7: cannot open shared object file: No such file or directory; LD_LIBRARY_PATH: /usr/local/nvidia/lib:/usr/local/nvidia/lib64\n",
            "2023-02-22 20:17:38.656073: W tensorflow/compiler/tf2tensorrt/utils/py_utils.cc:38] TF-TRT Warning: Cannot dlopen some TensorRT libraries. If you would like to use Nvidia GPU with TensorRT, please make sure the missing libraries mentioned above are installed properly.\n",
            "Setting BM25 parameters: k1=0.5, b=1.0\n",
            "Running queries.tsv topics, saving to runs/run_k1_0.5_b_1.0.txt...\n",
            "100% 112/112 [00:05<00:00, 22.00it/s]\n",
            "MAP =  0.11460101867572155\n",
            "Recall =  0.5088766955347874\n",
            "F-1 =  0.18707256525589755\n",
            "2023-02-22 20:17:51.347915: I tensorflow/core/platform/cpu_feature_guard.cc:193] This TensorFlow binary is optimized with oneAPI Deep Neural Network Library (oneDNN) to use the following CPU instructions in performance-critical operations:  AVX2 FMA\n",
            "To enable them in other operations, rebuild TensorFlow with the appropriate compiler flags.\n",
            "2023-02-22 20:17:52.565729: W tensorflow/compiler/xla/stream_executor/platform/default/dso_loader.cc:64] Could not load dynamic library 'libnvinfer.so.7'; dlerror: libnvinfer.so.7: cannot open shared object file: No such file or directory; LD_LIBRARY_PATH: /usr/local/nvidia/lib:/usr/local/nvidia/lib64\n",
            "2023-02-22 20:17:52.565871: W tensorflow/compiler/xla/stream_executor/platform/default/dso_loader.cc:64] Could not load dynamic library 'libnvinfer_plugin.so.7'; dlerror: libnvinfer_plugin.so.7: cannot open shared object file: No such file or directory; LD_LIBRARY_PATH: /usr/local/nvidia/lib:/usr/local/nvidia/lib64\n",
            "2023-02-22 20:17:52.565894: W tensorflow/compiler/tf2tensorrt/utils/py_utils.cc:38] TF-TRT Warning: Cannot dlopen some TensorRT libraries. If you would like to use Nvidia GPU with TensorRT, please make sure the missing libraries mentioned above are installed properly.\n",
            "Setting BM25 parameters: k1=1.0, b=0.25\n",
            "Running queries.tsv topics, saving to runs/run_k1_1.0_b_0.25.txt...\n",
            "100% 112/112 [00:05<00:00, 21.11it/s]\n",
            "MAP =  0.11468590831918504\n",
            "Recall =  0.5058034387141385\n",
            "F-1 =  0.18697670500629193\n",
            "2023-02-22 20:18:05.177401: I tensorflow/core/platform/cpu_feature_guard.cc:193] This TensorFlow binary is optimized with oneAPI Deep Neural Network Library (oneDNN) to use the following CPU instructions in performance-critical operations:  AVX2 FMA\n",
            "To enable them in other operations, rebuild TensorFlow with the appropriate compiler flags.\n",
            "2023-02-22 20:18:06.395237: W tensorflow/compiler/xla/stream_executor/platform/default/dso_loader.cc:64] Could not load dynamic library 'libnvinfer.so.7'; dlerror: libnvinfer.so.7: cannot open shared object file: No such file or directory; LD_LIBRARY_PATH: /usr/local/nvidia/lib:/usr/local/nvidia/lib64\n",
            "2023-02-22 20:18:06.395375: W tensorflow/compiler/xla/stream_executor/platform/default/dso_loader.cc:64] Could not load dynamic library 'libnvinfer_plugin.so.7'; dlerror: libnvinfer_plugin.so.7: cannot open shared object file: No such file or directory; LD_LIBRARY_PATH: /usr/local/nvidia/lib:/usr/local/nvidia/lib64\n",
            "2023-02-22 20:18:06.395398: W tensorflow/compiler/tf2tensorrt/utils/py_utils.cc:38] TF-TRT Warning: Cannot dlopen some TensorRT libraries. If you would like to use Nvidia GPU with TensorRT, please make sure the missing libraries mentioned above are installed properly.\n",
            "Setting BM25 parameters: k1=1.0, b=0.5\n",
            "Running queries.tsv topics, saving to runs/run_k1_1.0_b_0.5.txt...\n",
            "100% 112/112 [00:03<00:00, 28.07it/s]\n",
            "MAP =  0.11629881154499148\n",
            "Recall =  0.514058144405004\n",
            "F-1 =  0.18968411689604045\n",
            "2023-02-22 20:18:20.044561: I tensorflow/core/platform/cpu_feature_guard.cc:193] This TensorFlow binary is optimized with oneAPI Deep Neural Network Library (oneDNN) to use the following CPU instructions in performance-critical operations:  AVX2 FMA\n",
            "To enable them in other operations, rebuild TensorFlow with the appropriate compiler flags.\n",
            "2023-02-22 20:18:21.241979: W tensorflow/compiler/xla/stream_executor/platform/default/dso_loader.cc:64] Could not load dynamic library 'libnvinfer.so.7'; dlerror: libnvinfer.so.7: cannot open shared object file: No such file or directory; LD_LIBRARY_PATH: /usr/local/nvidia/lib:/usr/local/nvidia/lib64\n",
            "2023-02-22 20:18:21.242098: W tensorflow/compiler/xla/stream_executor/platform/default/dso_loader.cc:64] Could not load dynamic library 'libnvinfer_plugin.so.7'; dlerror: libnvinfer_plugin.so.7: cannot open shared object file: No such file or directory; LD_LIBRARY_PATH: /usr/local/nvidia/lib:/usr/local/nvidia/lib64\n",
            "2023-02-22 20:18:21.242120: W tensorflow/compiler/tf2tensorrt/utils/py_utils.cc:38] TF-TRT Warning: Cannot dlopen some TensorRT libraries. If you would like to use Nvidia GPU with TensorRT, please make sure the missing libraries mentioned above are installed properly.\n",
            "Setting BM25 parameters: k1=1.0, b=0.75\n",
            "Running queries.tsv topics, saving to runs/run_k1_1.0_b_0.75.txt...\n",
            "100% 112/112 [00:03<00:00, 36.15it/s]\n",
            "MAP =  0.11697792869269952\n",
            "Recall =  0.5141053631132922\n",
            "F-1 =  0.19058967742498586\n",
            "2023-02-22 20:18:35.275181: I tensorflow/core/platform/cpu_feature_guard.cc:193] This TensorFlow binary is optimized with oneAPI Deep Neural Network Library (oneDNN) to use the following CPU instructions in performance-critical operations:  AVX2 FMA\n",
            "To enable them in other operations, rebuild TensorFlow with the appropriate compiler flags.\n",
            "2023-02-22 20:18:36.723045: W tensorflow/compiler/xla/stream_executor/platform/default/dso_loader.cc:64] Could not load dynamic library 'libnvinfer.so.7'; dlerror: libnvinfer.so.7: cannot open shared object file: No such file or directory; LD_LIBRARY_PATH: /usr/local/nvidia/lib:/usr/local/nvidia/lib64\n",
            "2023-02-22 20:18:36.723164: W tensorflow/compiler/xla/stream_executor/platform/default/dso_loader.cc:64] Could not load dynamic library 'libnvinfer_plugin.so.7'; dlerror: libnvinfer_plugin.so.7: cannot open shared object file: No such file or directory; LD_LIBRARY_PATH: /usr/local/nvidia/lib:/usr/local/nvidia/lib64\n",
            "2023-02-22 20:18:36.723182: W tensorflow/compiler/tf2tensorrt/utils/py_utils.cc:38] TF-TRT Warning: Cannot dlopen some TensorRT libraries. If you would like to use Nvidia GPU with TensorRT, please make sure the missing libraries mentioned above are installed properly.\n",
            "Setting BM25 parameters: k1=1.0, b=1.0\n",
            "Running queries.tsv topics, saving to runs/run_k1_1.0_b_1.0.txt...\n",
            "100% 112/112 [00:03<00:00, 35.23it/s]\n",
            "MAP =  0.11791171477079798\n",
            "Recall =  0.5200889693149764\n",
            "F-1 =  0.19223986348284597\n",
            "2023-02-22 20:18:50.969892: I tensorflow/core/platform/cpu_feature_guard.cc:193] This TensorFlow binary is optimized with oneAPI Deep Neural Network Library (oneDNN) to use the following CPU instructions in performance-critical operations:  AVX2 FMA\n",
            "To enable them in other operations, rebuild TensorFlow with the appropriate compiler flags.\n",
            "2023-02-22 20:18:52.258520: W tensorflow/compiler/xla/stream_executor/platform/default/dso_loader.cc:64] Could not load dynamic library 'libnvinfer.so.7'; dlerror: libnvinfer.so.7: cannot open shared object file: No such file or directory; LD_LIBRARY_PATH: /usr/local/nvidia/lib:/usr/local/nvidia/lib64\n",
            "2023-02-22 20:18:52.258660: W tensorflow/compiler/xla/stream_executor/platform/default/dso_loader.cc:64] Could not load dynamic library 'libnvinfer_plugin.so.7'; dlerror: libnvinfer_plugin.so.7: cannot open shared object file: No such file or directory; LD_LIBRARY_PATH: /usr/local/nvidia/lib:/usr/local/nvidia/lib64\n",
            "2023-02-22 20:18:52.258682: W tensorflow/compiler/tf2tensorrt/utils/py_utils.cc:38] TF-TRT Warning: Cannot dlopen some TensorRT libraries. If you would like to use Nvidia GPU with TensorRT, please make sure the missing libraries mentioned above are installed properly.\n",
            "Setting BM25 parameters: k1=1.2, b=0.25\n",
            "Running queries.tsv topics, saving to runs/run_k1_1.2_b_0.25.txt...\n",
            "100% 112/112 [00:03<00:00, 35.06it/s]\n",
            "MAP =  0.11502546689303902\n",
            "Recall =  0.5059524544028553\n",
            "F-1 =  0.18743795970045948\n",
            "2023-02-22 20:19:04.839703: I tensorflow/core/platform/cpu_feature_guard.cc:193] This TensorFlow binary is optimized with oneAPI Deep Neural Network Library (oneDNN) to use the following CPU instructions in performance-critical operations:  AVX2 FMA\n",
            "To enable them in other operations, rebuild TensorFlow with the appropriate compiler flags.\n",
            "2023-02-22 20:19:06.715815: W tensorflow/compiler/xla/stream_executor/platform/default/dso_loader.cc:64] Could not load dynamic library 'libnvinfer.so.7'; dlerror: libnvinfer.so.7: cannot open shared object file: No such file or directory; LD_LIBRARY_PATH: /usr/local/nvidia/lib:/usr/local/nvidia/lib64\n",
            "2023-02-22 20:19:06.715989: W tensorflow/compiler/xla/stream_executor/platform/default/dso_loader.cc:64] Could not load dynamic library 'libnvinfer_plugin.so.7'; dlerror: libnvinfer_plugin.so.7: cannot open shared object file: No such file or directory; LD_LIBRARY_PATH: /usr/local/nvidia/lib:/usr/local/nvidia/lib64\n",
            "2023-02-22 20:19:06.716031: W tensorflow/compiler/tf2tensorrt/utils/py_utils.cc:38] TF-TRT Warning: Cannot dlopen some TensorRT libraries. If you would like to use Nvidia GPU with TensorRT, please make sure the missing libraries mentioned above are installed properly.\n",
            "Setting BM25 parameters: k1=1.2, b=0.5\n",
            "Running queries.tsv topics, saving to runs/run_k1_1.2_b_0.5.txt...\n",
            "100% 112/112 [00:03<00:00, 36.50it/s]\n",
            "MAP =  0.11731748726655343\n",
            "Recall =  0.5184019928703932\n",
            "F-1 =  0.1913347666628902\n",
            "2023-02-22 20:19:16.532675: I tensorflow/core/platform/cpu_feature_guard.cc:193] This TensorFlow binary is optimized with oneAPI Deep Neural Network Library (oneDNN) to use the following CPU instructions in performance-critical operations:  AVX2 FMA\n",
            "To enable them in other operations, rebuild TensorFlow with the appropriate compiler flags.\n",
            "2023-02-22 20:19:18.270585: W tensorflow/compiler/xla/stream_executor/platform/default/dso_loader.cc:64] Could not load dynamic library 'libnvinfer.so.7'; dlerror: libnvinfer.so.7: cannot open shared object file: No such file or directory; LD_LIBRARY_PATH: /usr/local/nvidia/lib:/usr/local/nvidia/lib64\n",
            "2023-02-22 20:19:18.270744: W tensorflow/compiler/xla/stream_executor/platform/default/dso_loader.cc:64] Could not load dynamic library 'libnvinfer_plugin.so.7'; dlerror: libnvinfer_plugin.so.7: cannot open shared object file: No such file or directory; LD_LIBRARY_PATH: /usr/local/nvidia/lib:/usr/local/nvidia/lib64\n",
            "2023-02-22 20:19:18.270769: W tensorflow/compiler/tf2tensorrt/utils/py_utils.cc:38] TF-TRT Warning: Cannot dlopen some TensorRT libraries. If you would like to use Nvidia GPU with TensorRT, please make sure the missing libraries mentioned above are installed properly.\n",
            "Setting BM25 parameters: k1=1.2, b=0.75\n",
            "Running queries.tsv topics, saving to runs/run_k1_1.2_b_0.75.txt...\n",
            "100% 112/112 [00:03<00:00, 33.84it/s]\n",
            "MAP =  0.11748726655348048\n",
            "Recall =  0.517569933988894\n",
            "F-1 =  0.19150362122557507\n",
            "2023-02-22 20:19:31.766350: I tensorflow/core/platform/cpu_feature_guard.cc:193] This TensorFlow binary is optimized with oneAPI Deep Neural Network Library (oneDNN) to use the following CPU instructions in performance-critical operations:  AVX2 FMA\n",
            "To enable them in other operations, rebuild TensorFlow with the appropriate compiler flags.\n",
            "2023-02-22 20:19:33.277367: W tensorflow/compiler/xla/stream_executor/platform/default/dso_loader.cc:64] Could not load dynamic library 'libnvinfer.so.7'; dlerror: libnvinfer.so.7: cannot open shared object file: No such file or directory; LD_LIBRARY_PATH: /usr/local/nvidia/lib:/usr/local/nvidia/lib64\n",
            "2023-02-22 20:19:33.277543: W tensorflow/compiler/xla/stream_executor/platform/default/dso_loader.cc:64] Could not load dynamic library 'libnvinfer_plugin.so.7'; dlerror: libnvinfer_plugin.so.7: cannot open shared object file: No such file or directory; LD_LIBRARY_PATH: /usr/local/nvidia/lib:/usr/local/nvidia/lib64\n",
            "2023-02-22 20:19:33.277569: W tensorflow/compiler/tf2tensorrt/utils/py_utils.cc:38] TF-TRT Warning: Cannot dlopen some TensorRT libraries. If you would like to use Nvidia GPU with TensorRT, please make sure the missing libraries mentioned above are installed properly.\n",
            "Setting BM25 parameters: k1=1.2, b=1.0\n",
            "Running queries.tsv topics, saving to runs/run_k1_1.2_b_1.0.txt...\n",
            "100% 112/112 [00:03<00:00, 29.31it/s]\n",
            "MAP =  0.11808149405772499\n",
            "Recall =  0.5222978693207456\n",
            "F-1 =  0.19261617809539022\n",
            "2023-02-22 20:19:45.444946: I tensorflow/core/platform/cpu_feature_guard.cc:193] This TensorFlow binary is optimized with oneAPI Deep Neural Network Library (oneDNN) to use the following CPU instructions in performance-critical operations:  AVX2 FMA\n",
            "To enable them in other operations, rebuild TensorFlow with the appropriate compiler flags.\n",
            "2023-02-22 20:19:46.671957: W tensorflow/compiler/xla/stream_executor/platform/default/dso_loader.cc:64] Could not load dynamic library 'libnvinfer.so.7'; dlerror: libnvinfer.so.7: cannot open shared object file: No such file or directory; LD_LIBRARY_PATH: /usr/local/nvidia/lib:/usr/local/nvidia/lib64\n",
            "2023-02-22 20:19:46.672112: W tensorflow/compiler/xla/stream_executor/platform/default/dso_loader.cc:64] Could not load dynamic library 'libnvinfer_plugin.so.7'; dlerror: libnvinfer_plugin.so.7: cannot open shared object file: No such file or directory; LD_LIBRARY_PATH: /usr/local/nvidia/lib:/usr/local/nvidia/lib64\n",
            "2023-02-22 20:19:46.672132: W tensorflow/compiler/tf2tensorrt/utils/py_utils.cc:38] TF-TRT Warning: Cannot dlopen some TensorRT libraries. If you would like to use Nvidia GPU with TensorRT, please make sure the missing libraries mentioned above are installed properly.\n",
            "Setting BM25 parameters: k1=1.5, b=0.25\n",
            "Running queries.tsv topics, saving to runs/run_k1_1.5_b_0.25.txt...\n",
            "100% 112/112 [00:05<00:00, 21.10it/s]\n",
            "MAP =  0.1162988115449915\n",
            "Recall =  0.5120657974039116\n",
            "F-1 =  0.18954805163368446\n",
            "2023-02-22 20:19:59.438825: I tensorflow/core/platform/cpu_feature_guard.cc:193] This TensorFlow binary is optimized with oneAPI Deep Neural Network Library (oneDNN) to use the following CPU instructions in performance-critical operations:  AVX2 FMA\n",
            "To enable them in other operations, rebuild TensorFlow with the appropriate compiler flags.\n",
            "2023-02-22 20:20:00.666311: W tensorflow/compiler/xla/stream_executor/platform/default/dso_loader.cc:64] Could not load dynamic library 'libnvinfer.so.7'; dlerror: libnvinfer.so.7: cannot open shared object file: No such file or directory; LD_LIBRARY_PATH: /usr/local/nvidia/lib:/usr/local/nvidia/lib64\n",
            "2023-02-22 20:20:00.666457: W tensorflow/compiler/xla/stream_executor/platform/default/dso_loader.cc:64] Could not load dynamic library 'libnvinfer_plugin.so.7'; dlerror: libnvinfer_plugin.so.7: cannot open shared object file: No such file or directory; LD_LIBRARY_PATH: /usr/local/nvidia/lib:/usr/local/nvidia/lib64\n",
            "2023-02-22 20:20:00.666491: W tensorflow/compiler/tf2tensorrt/utils/py_utils.cc:38] TF-TRT Warning: Cannot dlopen some TensorRT libraries. If you would like to use Nvidia GPU with TensorRT, please make sure the missing libraries mentioned above are installed properly.\n",
            "Setting BM25 parameters: k1=1.5, b=0.5\n",
            "Running queries.tsv topics, saving to runs/run_k1_1.5_b_0.5.txt...\n",
            "100% 112/112 [00:04<00:00, 22.78it/s]\n",
            "MAP =  0.11816638370118845\n",
            "Recall =  0.5201832766062672\n",
            "F-1 =  0.19258466160628016\n",
            "2023-02-22 20:20:16.439118: I tensorflow/core/platform/cpu_feature_guard.cc:193] This TensorFlow binary is optimized with oneAPI Deep Neural Network Library (oneDNN) to use the following CPU instructions in performance-critical operations:  AVX2 FMA\n",
            "To enable them in other operations, rebuild TensorFlow with the appropriate compiler flags.\n",
            "2023-02-22 20:20:18.338676: W tensorflow/compiler/xla/stream_executor/platform/default/dso_loader.cc:64] Could not load dynamic library 'libnvinfer.so.7'; dlerror: libnvinfer.so.7: cannot open shared object file: No such file or directory; LD_LIBRARY_PATH: /usr/local/nvidia/lib:/usr/local/nvidia/lib64\n",
            "2023-02-22 20:20:18.338799: W tensorflow/compiler/xla/stream_executor/platform/default/dso_loader.cc:64] Could not load dynamic library 'libnvinfer_plugin.so.7'; dlerror: libnvinfer_plugin.so.7: cannot open shared object file: No such file or directory; LD_LIBRARY_PATH: /usr/local/nvidia/lib:/usr/local/nvidia/lib64\n",
            "2023-02-22 20:20:18.338818: W tensorflow/compiler/tf2tensorrt/utils/py_utils.cc:38] TF-TRT Warning: Cannot dlopen some TensorRT libraries. If you would like to use Nvidia GPU with TensorRT, please make sure the missing libraries mentioned above are installed properly.\n",
            "Setting BM25 parameters: k1=1.5, b=0.75\n",
            "Running queries.tsv topics, saving to runs/run_k1_1.5_b_0.75.txt...\n",
            "100% 112/112 [00:05<00:00, 19.35it/s]\n",
            "MAP =  0.11918505942275043\n",
            "Recall =  0.5258914271201507\n",
            "F-1 =  0.19432858676073209\n",
            "2023-02-22 20:20:31.884496: I tensorflow/core/platform/cpu_feature_guard.cc:193] This TensorFlow binary is optimized with oneAPI Deep Neural Network Library (oneDNN) to use the following CPU instructions in performance-critical operations:  AVX2 FMA\n",
            "To enable them in other operations, rebuild TensorFlow with the appropriate compiler flags.\n",
            "2023-02-22 20:20:33.103166: W tensorflow/compiler/xla/stream_executor/platform/default/dso_loader.cc:64] Could not load dynamic library 'libnvinfer.so.7'; dlerror: libnvinfer.so.7: cannot open shared object file: No such file or directory; LD_LIBRARY_PATH: /usr/local/nvidia/lib:/usr/local/nvidia/lib64\n",
            "2023-02-22 20:20:33.103320: W tensorflow/compiler/xla/stream_executor/platform/default/dso_loader.cc:64] Could not load dynamic library 'libnvinfer_plugin.so.7'; dlerror: libnvinfer_plugin.so.7: cannot open shared object file: No such file or directory; LD_LIBRARY_PATH: /usr/local/nvidia/lib:/usr/local/nvidia/lib64\n",
            "2023-02-22 20:20:33.103347: W tensorflow/compiler/tf2tensorrt/utils/py_utils.cc:38] TF-TRT Warning: Cannot dlopen some TensorRT libraries. If you would like to use Nvidia GPU with TensorRT, please make sure the missing libraries mentioned above are installed properly.\n",
            "Setting BM25 parameters: k1=1.5, b=1.0\n",
            "Running queries.tsv topics, saving to runs/run_k1_1.5_b_1.0.txt...\n",
            "100% 112/112 [00:04<00:00, 27.95it/s]\n",
            "MAP =  0.11884550084889642\n",
            "Recall =  0.5251478250962979\n",
            "F-1 =  0.19382640713450366\n",
            "2023-02-22 20:20:45.926578: I tensorflow/core/platform/cpu_feature_guard.cc:193] This TensorFlow binary is optimized with oneAPI Deep Neural Network Library (oneDNN) to use the following CPU instructions in performance-critical operations:  AVX2 FMA\n",
            "To enable them in other operations, rebuild TensorFlow with the appropriate compiler flags.\n",
            "2023-02-22 20:20:47.165232: W tensorflow/compiler/xla/stream_executor/platform/default/dso_loader.cc:64] Could not load dynamic library 'libnvinfer.so.7'; dlerror: libnvinfer.so.7: cannot open shared object file: No such file or directory; LD_LIBRARY_PATH: /usr/local/nvidia/lib:/usr/local/nvidia/lib64\n",
            "2023-02-22 20:20:47.165376: W tensorflow/compiler/xla/stream_executor/platform/default/dso_loader.cc:64] Could not load dynamic library 'libnvinfer_plugin.so.7'; dlerror: libnvinfer_plugin.so.7: cannot open shared object file: No such file or directory; LD_LIBRARY_PATH: /usr/local/nvidia/lib:/usr/local/nvidia/lib64\n",
            "2023-02-22 20:20:47.165399: W tensorflow/compiler/tf2tensorrt/utils/py_utils.cc:38] TF-TRT Warning: Cannot dlopen some TensorRT libraries. If you would like to use Nvidia GPU with TensorRT, please make sure the missing libraries mentioned above are installed properly.\n",
            "Setting BM25 parameters: k1=2.0, b=0.25\n",
            "Running queries.tsv topics, saving to runs/run_k1_2.0_b_0.25.txt...\n",
            "100% 112/112 [00:03<00:00, 34.55it/s]\n",
            "MAP =  0.11731748726655349\n",
            "Recall =  0.5174721523542187\n",
            "F-1 =  0.19127134047392388\n",
            "2023-02-22 20:20:59.486654: I tensorflow/core/platform/cpu_feature_guard.cc:193] This TensorFlow binary is optimized with oneAPI Deep Neural Network Library (oneDNN) to use the following CPU instructions in performance-critical operations:  AVX2 FMA\n",
            "To enable them in other operations, rebuild TensorFlow with the appropriate compiler flags.\n",
            "2023-02-22 20:21:01.003350: W tensorflow/compiler/xla/stream_executor/platform/default/dso_loader.cc:64] Could not load dynamic library 'libnvinfer.so.7'; dlerror: libnvinfer.so.7: cannot open shared object file: No such file or directory; LD_LIBRARY_PATH: /usr/local/nvidia/lib:/usr/local/nvidia/lib64\n",
            "2023-02-22 20:21:01.003510: W tensorflow/compiler/xla/stream_executor/platform/default/dso_loader.cc:64] Could not load dynamic library 'libnvinfer_plugin.so.7'; dlerror: libnvinfer_plugin.so.7: cannot open shared object file: No such file or directory; LD_LIBRARY_PATH: /usr/local/nvidia/lib:/usr/local/nvidia/lib64\n",
            "2023-02-22 20:21:01.003532: W tensorflow/compiler/tf2tensorrt/utils/py_utils.cc:38] TF-TRT Warning: Cannot dlopen some TensorRT libraries. If you would like to use Nvidia GPU with TensorRT, please make sure the missing libraries mentioned above are installed properly.\n",
            "Setting BM25 parameters: k1=2.0, b=0.5\n",
            "Running queries.tsv topics, saving to runs/run_k1_2.0_b_0.5.txt...\n",
            "100% 112/112 [00:03<00:00, 33.74it/s]\n",
            "MAP =  0.11850594227504248\n",
            "Recall =  0.523728009890528\n",
            "F-1 =  0.19327810714033758\n",
            "2023-02-22 20:21:12.811893: I tensorflow/core/platform/cpu_feature_guard.cc:193] This TensorFlow binary is optimized with oneAPI Deep Neural Network Library (oneDNN) to use the following CPU instructions in performance-critical operations:  AVX2 FMA\n",
            "To enable them in other operations, rebuild TensorFlow with the appropriate compiler flags.\n",
            "2023-02-22 20:21:14.627436: W tensorflow/compiler/xla/stream_executor/platform/default/dso_loader.cc:64] Could not load dynamic library 'libnvinfer.so.7'; dlerror: libnvinfer.so.7: cannot open shared object file: No such file or directory; LD_LIBRARY_PATH: /usr/local/nvidia/lib:/usr/local/nvidia/lib64\n",
            "2023-02-22 20:21:14.627646: W tensorflow/compiler/xla/stream_executor/platform/default/dso_loader.cc:64] Could not load dynamic library 'libnvinfer_plugin.so.7'; dlerror: libnvinfer_plugin.so.7: cannot open shared object file: No such file or directory; LD_LIBRARY_PATH: /usr/local/nvidia/lib:/usr/local/nvidia/lib64\n",
            "2023-02-22 20:21:14.627677: W tensorflow/compiler/tf2tensorrt/utils/py_utils.cc:38] TF-TRT Warning: Cannot dlopen some TensorRT libraries. If you would like to use Nvidia GPU with TensorRT, please make sure the missing libraries mentioned above are installed properly.\n",
            "Setting BM25 parameters: k1=2.0, b=0.75\n",
            "Running queries.tsv topics, saving to runs/run_k1_2.0_b_0.75.txt...\n",
            "100% 112/112 [00:03<00:00, 33.74it/s]\n",
            "MAP =  0.12003395585738538\n",
            "Recall =  0.5295161059282226\n",
            "F-1 =  0.19570443180326139\n",
            "2023-02-22 20:21:25.491590: I tensorflow/core/platform/cpu_feature_guard.cc:193] This TensorFlow binary is optimized with oneAPI Deep Neural Network Library (oneDNN) to use the following CPU instructions in performance-critical operations:  AVX2 FMA\n",
            "To enable them in other operations, rebuild TensorFlow with the appropriate compiler flags.\n",
            "2023-02-22 20:21:27.022417: W tensorflow/compiler/xla/stream_executor/platform/default/dso_loader.cc:64] Could not load dynamic library 'libnvinfer.so.7'; dlerror: libnvinfer.so.7: cannot open shared object file: No such file or directory; LD_LIBRARY_PATH: /usr/local/nvidia/lib:/usr/local/nvidia/lib64\n",
            "2023-02-22 20:21:27.022607: W tensorflow/compiler/xla/stream_executor/platform/default/dso_loader.cc:64] Could not load dynamic library 'libnvinfer_plugin.so.7'; dlerror: libnvinfer_plugin.so.7: cannot open shared object file: No such file or directory; LD_LIBRARY_PATH: /usr/local/nvidia/lib:/usr/local/nvidia/lib64\n",
            "2023-02-22 20:21:27.022635: W tensorflow/compiler/tf2tensorrt/utils/py_utils.cc:38] TF-TRT Warning: Cannot dlopen some TensorRT libraries. If you would like to use Nvidia GPU with TensorRT, please make sure the missing libraries mentioned above are installed properly.\n",
            "Setting BM25 parameters: k1=2.0, b=1.0\n",
            "Running queries.tsv topics, saving to runs/run_k1_2.0_b_1.0.txt...\n",
            "100% 112/112 [00:03<00:00, 31.93it/s]\n",
            "MAP =  0.11901528013582342\n",
            "Recall =  0.5274943011543717\n",
            "F-1 =  0.19421176062589024\n",
            "2023-02-22 20:21:38.773212: I tensorflow/core/platform/cpu_feature_guard.cc:193] This TensorFlow binary is optimized with oneAPI Deep Neural Network Library (oneDNN) to use the following CPU instructions in performance-critical operations:  AVX2 FMA\n",
            "To enable them in other operations, rebuild TensorFlow with the appropriate compiler flags.\n",
            "2023-02-22 20:21:40.025490: W tensorflow/compiler/xla/stream_executor/platform/default/dso_loader.cc:64] Could not load dynamic library 'libnvinfer.so.7'; dlerror: libnvinfer.so.7: cannot open shared object file: No such file or directory; LD_LIBRARY_PATH: /usr/local/nvidia/lib:/usr/local/nvidia/lib64\n",
            "2023-02-22 20:21:40.025611: W tensorflow/compiler/xla/stream_executor/platform/default/dso_loader.cc:64] Could not load dynamic library 'libnvinfer_plugin.so.7'; dlerror: libnvinfer_plugin.so.7: cannot open shared object file: No such file or directory; LD_LIBRARY_PATH: /usr/local/nvidia/lib:/usr/local/nvidia/lib64\n",
            "2023-02-22 20:21:40.025630: W tensorflow/compiler/tf2tensorrt/utils/py_utils.cc:38] TF-TRT Warning: Cannot dlopen some TensorRT libraries. If you would like to use Nvidia GPU with TensorRT, please make sure the missing libraries mentioned above are installed properly.\n",
            "Setting BM25 parameters: k1=2.5, b=0.25\n",
            "Running queries.tsv topics, saving to runs/run_k1_2.5_b_0.25.txt...\n",
            "100% 112/112 [00:05<00:00, 20.33it/s]\n",
            "MAP =  0.11782682512733449\n",
            "Recall =  0.520180539285227\n",
            "F-1 =  0.19213327261021895\n",
            "2023-02-22 20:21:53.885990: I tensorflow/core/platform/cpu_feature_guard.cc:193] This TensorFlow binary is optimized with oneAPI Deep Neural Network Library (oneDNN) to use the following CPU instructions in performance-critical operations:  AVX2 FMA\n",
            "To enable them in other operations, rebuild TensorFlow with the appropriate compiler flags.\n",
            "2023-02-22 20:21:55.111145: W tensorflow/compiler/xla/stream_executor/platform/default/dso_loader.cc:64] Could not load dynamic library 'libnvinfer.so.7'; dlerror: libnvinfer.so.7: cannot open shared object file: No such file or directory; LD_LIBRARY_PATH: /usr/local/nvidia/lib:/usr/local/nvidia/lib64\n",
            "2023-02-22 20:21:55.111293: W tensorflow/compiler/xla/stream_executor/platform/default/dso_loader.cc:64] Could not load dynamic library 'libnvinfer_plugin.so.7'; dlerror: libnvinfer_plugin.so.7: cannot open shared object file: No such file or directory; LD_LIBRARY_PATH: /usr/local/nvidia/lib:/usr/local/nvidia/lib64\n",
            "2023-02-22 20:21:55.111319: W tensorflow/compiler/tf2tensorrt/utils/py_utils.cc:38] TF-TRT Warning: Cannot dlopen some TensorRT libraries. If you would like to use Nvidia GPU with TensorRT, please make sure the missing libraries mentioned above are installed properly.\n",
            "Setting BM25 parameters: k1=2.5, b=0.5\n",
            "Running queries.tsv topics, saving to runs/run_k1_2.5_b_0.5.txt...\n",
            "100% 112/112 [00:05<00:00, 20.00it/s]\n",
            "MAP =  0.11884550084889642\n",
            "Recall =  0.5236466554031934\n",
            "F-1 =  0.19372391841255127\n",
            "2023-02-22 20:22:07.960167: I tensorflow/core/platform/cpu_feature_guard.cc:193] This TensorFlow binary is optimized with oneAPI Deep Neural Network Library (oneDNN) to use the following CPU instructions in performance-critical operations:  AVX2 FMA\n",
            "To enable them in other operations, rebuild TensorFlow with the appropriate compiler flags.\n",
            "2023-02-22 20:22:09.198581: W tensorflow/compiler/xla/stream_executor/platform/default/dso_loader.cc:64] Could not load dynamic library 'libnvinfer.so.7'; dlerror: libnvinfer.so.7: cannot open shared object file: No such file or directory; LD_LIBRARY_PATH: /usr/local/nvidia/lib:/usr/local/nvidia/lib64\n",
            "2023-02-22 20:22:09.198715: W tensorflow/compiler/xla/stream_executor/platform/default/dso_loader.cc:64] Could not load dynamic library 'libnvinfer_plugin.so.7'; dlerror: libnvinfer_plugin.so.7: cannot open shared object file: No such file or directory; LD_LIBRARY_PATH: /usr/local/nvidia/lib:/usr/local/nvidia/lib64\n",
            "2023-02-22 20:22:09.198739: W tensorflow/compiler/tf2tensorrt/utils/py_utils.cc:38] TF-TRT Warning: Cannot dlopen some TensorRT libraries. If you would like to use Nvidia GPU with TensorRT, please make sure the missing libraries mentioned above are installed properly.\n",
            "Setting BM25 parameters: k1=2.5, b=0.75\n",
            "Running queries.tsv topics, saving to runs/run_k1_2.5_b_0.75.txt...\n",
            "100% 112/112 [00:04<00:00, 25.76it/s]\n",
            "MAP =  0.12020373514431239\n",
            "Recall =  0.5303850193788179\n",
            "F-1 =  0.19598943249688702\n",
            "2023-02-22 20:22:21.869284: I tensorflow/core/platform/cpu_feature_guard.cc:193] This TensorFlow binary is optimized with oneAPI Deep Neural Network Library (oneDNN) to use the following CPU instructions in performance-critical operations:  AVX2 FMA\n",
            "To enable them in other operations, rebuild TensorFlow with the appropriate compiler flags.\n",
            "2023-02-22 20:22:23.111941: W tensorflow/compiler/xla/stream_executor/platform/default/dso_loader.cc:64] Could not load dynamic library 'libnvinfer.so.7'; dlerror: libnvinfer.so.7: cannot open shared object file: No such file or directory; LD_LIBRARY_PATH: /usr/local/nvidia/lib:/usr/local/nvidia/lib64\n",
            "2023-02-22 20:22:23.112075: W tensorflow/compiler/xla/stream_executor/platform/default/dso_loader.cc:64] Could not load dynamic library 'libnvinfer_plugin.so.7'; dlerror: libnvinfer_plugin.so.7: cannot open shared object file: No such file or directory; LD_LIBRARY_PATH: /usr/local/nvidia/lib:/usr/local/nvidia/lib64\n",
            "2023-02-22 20:22:23.112096: W tensorflow/compiler/tf2tensorrt/utils/py_utils.cc:38] TF-TRT Warning: Cannot dlopen some TensorRT libraries. If you would like to use Nvidia GPU with TensorRT, please make sure the missing libraries mentioned above are installed properly.\n",
            "Setting BM25 parameters: k1=2.5, b=1.0\n",
            "Running queries.tsv topics, saving to runs/run_k1_2.5_b_1.0.txt...\n",
            "100% 112/112 [00:03<00:00, 35.23it/s]\n",
            "MAP =  0.1188455008488964\n",
            "Recall =  0.5288119482158549\n",
            "F-1 =  0.1940745711528461\n",
            "2023-02-22 20:22:35.555850: I tensorflow/core/platform/cpu_feature_guard.cc:193] This TensorFlow binary is optimized with oneAPI Deep Neural Network Library (oneDNN) to use the following CPU instructions in performance-critical operations:  AVX2 FMA\n",
            "To enable them in other operations, rebuild TensorFlow with the appropriate compiler flags.\n",
            "2023-02-22 20:22:36.834344: W tensorflow/compiler/xla/stream_executor/platform/default/dso_loader.cc:64] Could not load dynamic library 'libnvinfer.so.7'; dlerror: libnvinfer.so.7: cannot open shared object file: No such file or directory; LD_LIBRARY_PATH: /usr/local/nvidia/lib:/usr/local/nvidia/lib64\n",
            "2023-02-22 20:22:36.834515: W tensorflow/compiler/xla/stream_executor/platform/default/dso_loader.cc:64] Could not load dynamic library 'libnvinfer_plugin.so.7'; dlerror: libnvinfer_plugin.so.7: cannot open shared object file: No such file or directory; LD_LIBRARY_PATH: /usr/local/nvidia/lib:/usr/local/nvidia/lib64\n",
            "2023-02-22 20:22:36.834540: W tensorflow/compiler/tf2tensorrt/utils/py_utils.cc:38] TF-TRT Warning: Cannot dlopen some TensorRT libraries. If you would like to use Nvidia GPU with TensorRT, please make sure the missing libraries mentioned above are installed properly.\n",
            "Setting BM25 parameters: k1=3.0, b=0.25\n",
            "Running queries.tsv topics, saving to runs/run_k1_3.0_b_0.25.txt...\n",
            "100% 112/112 [00:03<00:00, 34.04it/s]\n",
            "MAP =  0.11748726655348053\n",
            "Recall =  0.5200461214064219\n",
            "F-1 =  0.19167246277499364\n",
            "2023-02-22 20:22:47.857882: I tensorflow/core/platform/cpu_feature_guard.cc:193] This TensorFlow binary is optimized with oneAPI Deep Neural Network Library (oneDNN) to use the following CPU instructions in performance-critical operations:  AVX2 FMA\n",
            "To enable them in other operations, rebuild TensorFlow with the appropriate compiler flags.\n",
            "2023-02-22 20:22:49.655776: W tensorflow/compiler/xla/stream_executor/platform/default/dso_loader.cc:64] Could not load dynamic library 'libnvinfer.so.7'; dlerror: libnvinfer.so.7: cannot open shared object file: No such file or directory; LD_LIBRARY_PATH: /usr/local/nvidia/lib:/usr/local/nvidia/lib64\n",
            "2023-02-22 20:22:49.655934: W tensorflow/compiler/xla/stream_executor/platform/default/dso_loader.cc:64] Could not load dynamic library 'libnvinfer_plugin.so.7'; dlerror: libnvinfer_plugin.so.7: cannot open shared object file: No such file or directory; LD_LIBRARY_PATH: /usr/local/nvidia/lib:/usr/local/nvidia/lib64\n",
            "2023-02-22 20:22:49.655963: W tensorflow/compiler/tf2tensorrt/utils/py_utils.cc:38] TF-TRT Warning: Cannot dlopen some TensorRT libraries. If you would like to use Nvidia GPU with TensorRT, please make sure the missing libraries mentioned above are installed properly.\n",
            "Setting BM25 parameters: k1=3.0, b=0.5\n",
            "Running queries.tsv topics, saving to runs/run_k1_3.0_b_0.5.txt...\n",
            "100% 112/112 [00:03<00:00, 36.44it/s]\n",
            "MAP =  0.11901528013582342\n",
            "Recall =  0.5241189883179947\n",
            "F-1 =  0.19398178974084546\n",
            "2023-02-22 20:23:00.309498: I tensorflow/core/platform/cpu_feature_guard.cc:193] This TensorFlow binary is optimized with oneAPI Deep Neural Network Library (oneDNN) to use the following CPU instructions in performance-critical operations:  AVX2 FMA\n",
            "To enable them in other operations, rebuild TensorFlow with the appropriate compiler flags.\n",
            "2023-02-22 20:23:01.552323: W tensorflow/compiler/xla/stream_executor/platform/default/dso_loader.cc:64] Could not load dynamic library 'libnvinfer.so.7'; dlerror: libnvinfer.so.7: cannot open shared object file: No such file or directory; LD_LIBRARY_PATH: /usr/local/nvidia/lib:/usr/local/nvidia/lib64\n",
            "2023-02-22 20:23:01.552501: W tensorflow/compiler/xla/stream_executor/platform/default/dso_loader.cc:64] Could not load dynamic library 'libnvinfer_plugin.so.7'; dlerror: libnvinfer_plugin.so.7: cannot open shared object file: No such file or directory; LD_LIBRARY_PATH: /usr/local/nvidia/lib:/usr/local/nvidia/lib64\n",
            "2023-02-22 20:23:01.552527: W tensorflow/compiler/tf2tensorrt/utils/py_utils.cc:38] TF-TRT Warning: Cannot dlopen some TensorRT libraries. If you would like to use Nvidia GPU with TensorRT, please make sure the missing libraries mentioned above are installed properly.\n",
            "Setting BM25 parameters: k1=3.0, b=0.75\n",
            "Running queries.tsv topics, saving to runs/run_k1_3.0_b_0.75.txt...\n",
            "100% 112/112 [00:04<00:00, 26.97it/s]\n",
            "MAP =  0.12062818336162988\n",
            "Recall =  0.5336037653659043\n",
            "F-1 =  0.19677318717377837\n",
            "2023-02-22 20:23:13.878298: I tensorflow/core/platform/cpu_feature_guard.cc:193] This TensorFlow binary is optimized with oneAPI Deep Neural Network Library (oneDNN) to use the following CPU instructions in performance-critical operations:  AVX2 FMA\n",
            "To enable them in other operations, rebuild TensorFlow with the appropriate compiler flags.\n",
            "2023-02-22 20:23:15.127492: W tensorflow/compiler/xla/stream_executor/platform/default/dso_loader.cc:64] Could not load dynamic library 'libnvinfer.so.7'; dlerror: libnvinfer.so.7: cannot open shared object file: No such file or directory; LD_LIBRARY_PATH: /usr/local/nvidia/lib:/usr/local/nvidia/lib64\n",
            "2023-02-22 20:23:15.127631: W tensorflow/compiler/xla/stream_executor/platform/default/dso_loader.cc:64] Could not load dynamic library 'libnvinfer_plugin.so.7'; dlerror: libnvinfer_plugin.so.7: cannot open shared object file: No such file or directory; LD_LIBRARY_PATH: /usr/local/nvidia/lib:/usr/local/nvidia/lib64\n",
            "2023-02-22 20:23:15.127654: W tensorflow/compiler/tf2tensorrt/utils/py_utils.cc:38] TF-TRT Warning: Cannot dlopen some TensorRT libraries. If you would like to use Nvidia GPU with TensorRT, please make sure the missing libraries mentioned above are installed properly.\n",
            "Setting BM25 parameters: k1=3.0, b=1.0\n",
            "Running queries.tsv topics, saving to runs/run_k1_3.0_b_1.0.txt...\n",
            "100% 112/112 [00:06<00:00, 18.22it/s]\n",
            "MAP =  0.1194397283531409\n",
            "Recall =  0.5334166386521383\n",
            "F-1 =  0.19517658596761986\n",
            "2023-02-22 20:23:28.308848: I tensorflow/core/platform/cpu_feature_guard.cc:193] This TensorFlow binary is optimized with oneAPI Deep Neural Network Library (oneDNN) to use the following CPU instructions in performance-critical operations:  AVX2 FMA\n",
            "To enable them in other operations, rebuild TensorFlow with the appropriate compiler flags.\n",
            "2023-02-22 20:23:29.536267: W tensorflow/compiler/xla/stream_executor/platform/default/dso_loader.cc:64] Could not load dynamic library 'libnvinfer.so.7'; dlerror: libnvinfer.so.7: cannot open shared object file: No such file or directory; LD_LIBRARY_PATH: /usr/local/nvidia/lib:/usr/local/nvidia/lib64\n",
            "2023-02-22 20:23:29.536432: W tensorflow/compiler/xla/stream_executor/platform/default/dso_loader.cc:64] Could not load dynamic library 'libnvinfer_plugin.so.7'; dlerror: libnvinfer_plugin.so.7: cannot open shared object file: No such file or directory; LD_LIBRARY_PATH: /usr/local/nvidia/lib:/usr/local/nvidia/lib64\n",
            "2023-02-22 20:23:29.536460: W tensorflow/compiler/tf2tensorrt/utils/py_utils.cc:38] TF-TRT Warning: Cannot dlopen some TensorRT libraries. If you would like to use Nvidia GPU with TensorRT, please make sure the missing libraries mentioned above are installed properly.\n",
            "Setting BM25 parameters: k1=4.0, b=0.25\n",
            "Running queries.tsv topics, saving to runs/run_k1_4.0_b_0.25.txt...\n",
            "100% 112/112 [00:04<00:00, 25.09it/s]\n",
            "MAP =  0.11859083191850595\n",
            "Recall =  0.5245313966899104\n",
            "F-1 =  0.19344569953811197\n",
            "2023-02-22 20:23:42.248413: I tensorflow/core/platform/cpu_feature_guard.cc:193] This TensorFlow binary is optimized with oneAPI Deep Neural Network Library (oneDNN) to use the following CPU instructions in performance-critical operations:  AVX2 FMA\n",
            "To enable them in other operations, rebuild TensorFlow with the appropriate compiler flags.\n",
            "2023-02-22 20:23:43.486133: W tensorflow/compiler/xla/stream_executor/platform/default/dso_loader.cc:64] Could not load dynamic library 'libnvinfer.so.7'; dlerror: libnvinfer.so.7: cannot open shared object file: No such file or directory; LD_LIBRARY_PATH: /usr/local/nvidia/lib:/usr/local/nvidia/lib64\n",
            "2023-02-22 20:23:43.486262: W tensorflow/compiler/xla/stream_executor/platform/default/dso_loader.cc:64] Could not load dynamic library 'libnvinfer_plugin.so.7'; dlerror: libnvinfer_plugin.so.7: cannot open shared object file: No such file or directory; LD_LIBRARY_PATH: /usr/local/nvidia/lib:/usr/local/nvidia/lib64\n",
            "2023-02-22 20:23:43.486285: W tensorflow/compiler/tf2tensorrt/utils/py_utils.cc:38] TF-TRT Warning: Cannot dlopen some TensorRT libraries. If you would like to use Nvidia GPU with TensorRT, please make sure the missing libraries mentioned above are installed properly.\n",
            "Setting BM25 parameters: k1=4.0, b=0.5\n",
            "Running queries.tsv topics, saving to runs/run_k1_4.0_b_0.5.txt...\n",
            "100% 112/112 [00:03<00:00, 35.71it/s]\n",
            "MAP =  0.12003395585738538\n",
            "Recall =  0.5331657000936244\n",
            "F-1 =  0.19595230195439647\n",
            "2023-02-22 20:23:55.837894: I tensorflow/core/platform/cpu_feature_guard.cc:193] This TensorFlow binary is optimized with oneAPI Deep Neural Network Library (oneDNN) to use the following CPU instructions in performance-critical operations:  AVX2 FMA\n",
            "To enable them in other operations, rebuild TensorFlow with the appropriate compiler flags.\n",
            "2023-02-22 20:23:57.085498: W tensorflow/compiler/xla/stream_executor/platform/default/dso_loader.cc:64] Could not load dynamic library 'libnvinfer.so.7'; dlerror: libnvinfer.so.7: cannot open shared object file: No such file or directory; LD_LIBRARY_PATH: /usr/local/nvidia/lib:/usr/local/nvidia/lib64\n",
            "2023-02-22 20:23:57.085627: W tensorflow/compiler/xla/stream_executor/platform/default/dso_loader.cc:64] Could not load dynamic library 'libnvinfer_plugin.so.7'; dlerror: libnvinfer_plugin.so.7: cannot open shared object file: No such file or directory; LD_LIBRARY_PATH: /usr/local/nvidia/lib:/usr/local/nvidia/lib64\n",
            "2023-02-22 20:23:57.085645: W tensorflow/compiler/tf2tensorrt/utils/py_utils.cc:38] TF-TRT Warning: Cannot dlopen some TensorRT libraries. If you would like to use Nvidia GPU with TensorRT, please make sure the missing libraries mentioned above are installed properly.\n",
            "Setting BM25 parameters: k1=4.0, b=0.75\n",
            "Running queries.tsv topics, saving to runs/run_k1_4.0_b_0.75.txt...\n",
            "100% 112/112 [00:03<00:00, 34.80it/s]\n",
            "MAP =  0.12054329371816634\n",
            "Recall =  0.5359272711631899\n",
            "F-1 =  0.19681747184224585\n",
            "2023-02-22 20:24:08.748644: I tensorflow/core/platform/cpu_feature_guard.cc:193] This TensorFlow binary is optimized with oneAPI Deep Neural Network Library (oneDNN) to use the following CPU instructions in performance-critical operations:  AVX2 FMA\n",
            "To enable them in other operations, rebuild TensorFlow with the appropriate compiler flags.\n",
            "2023-02-22 20:24:10.556851: W tensorflow/compiler/xla/stream_executor/platform/default/dso_loader.cc:64] Could not load dynamic library 'libnvinfer.so.7'; dlerror: libnvinfer.so.7: cannot open shared object file: No such file or directory; LD_LIBRARY_PATH: /usr/local/nvidia/lib:/usr/local/nvidia/lib64\n",
            "2023-02-22 20:24:10.557023: W tensorflow/compiler/xla/stream_executor/platform/default/dso_loader.cc:64] Could not load dynamic library 'libnvinfer_plugin.so.7'; dlerror: libnvinfer_plugin.so.7: cannot open shared object file: No such file or directory; LD_LIBRARY_PATH: /usr/local/nvidia/lib:/usr/local/nvidia/lib64\n",
            "2023-02-22 20:24:10.557053: W tensorflow/compiler/tf2tensorrt/utils/py_utils.cc:38] TF-TRT Warning: Cannot dlopen some TensorRT libraries. If you would like to use Nvidia GPU with TensorRT, please make sure the missing libraries mentioned above are installed properly.\n",
            "Setting BM25 parameters: k1=4.0, b=1.0\n",
            "Running queries.tsv topics, saving to runs/run_k1_4.0_b_1.0.txt...\n",
            "100% 112/112 [00:03<00:00, 36.48it/s]\n",
            "MAP =  0.11952461799660437\n",
            "Recall =  0.5306302389853429\n",
            "F-1 =  0.19510236963108948\n",
            "2023-02-22 20:24:20.744072: I tensorflow/core/platform/cpu_feature_guard.cc:193] This TensorFlow binary is optimized with oneAPI Deep Neural Network Library (oneDNN) to use the following CPU instructions in performance-critical operations:  AVX2 FMA\n",
            "To enable them in other operations, rebuild TensorFlow with the appropriate compiler flags.\n",
            "2023-02-22 20:24:22.404848: W tensorflow/compiler/xla/stream_executor/platform/default/dso_loader.cc:64] Could not load dynamic library 'libnvinfer.so.7'; dlerror: libnvinfer.so.7: cannot open shared object file: No such file or directory; LD_LIBRARY_PATH: /usr/local/nvidia/lib:/usr/local/nvidia/lib64\n",
            "2023-02-22 20:24:22.404996: W tensorflow/compiler/xla/stream_executor/platform/default/dso_loader.cc:64] Could not load dynamic library 'libnvinfer_plugin.so.7'; dlerror: libnvinfer_plugin.so.7: cannot open shared object file: No such file or directory; LD_LIBRARY_PATH: /usr/local/nvidia/lib:/usr/local/nvidia/lib64\n",
            "2023-02-22 20:24:22.405022: W tensorflow/compiler/tf2tensorrt/utils/py_utils.cc:38] TF-TRT Warning: Cannot dlopen some TensorRT libraries. If you would like to use Nvidia GPU with TensorRT, please make sure the missing libraries mentioned above are installed properly.\n",
            "Setting BM25 parameters: k1=5.0, b=0.25\n",
            "Running queries.tsv topics, saving to runs/run_k1_5.0_b_0.25.txt...\n",
            "100% 112/112 [00:03<00:00, 30.30it/s]\n",
            "MAP =  0.11808149405772495\n",
            "Recall =  0.5259064418258796\n",
            "F-1 =  0.19286019170584554\n",
            "2023-02-22 20:24:34.520405: I tensorflow/core/platform/cpu_feature_guard.cc:193] This TensorFlow binary is optimized with oneAPI Deep Neural Network Library (oneDNN) to use the following CPU instructions in performance-critical operations:  AVX2 FMA\n",
            "To enable them in other operations, rebuild TensorFlow with the appropriate compiler flags.\n",
            "2023-02-22 20:24:35.776189: W tensorflow/compiler/xla/stream_executor/platform/default/dso_loader.cc:64] Could not load dynamic library 'libnvinfer.so.7'; dlerror: libnvinfer.so.7: cannot open shared object file: No such file or directory; LD_LIBRARY_PATH: /usr/local/nvidia/lib:/usr/local/nvidia/lib64\n",
            "2023-02-22 20:24:35.776301: W tensorflow/compiler/xla/stream_executor/platform/default/dso_loader.cc:64] Could not load dynamic library 'libnvinfer_plugin.so.7'; dlerror: libnvinfer_plugin.so.7: cannot open shared object file: No such file or directory; LD_LIBRARY_PATH: /usr/local/nvidia/lib:/usr/local/nvidia/lib64\n",
            "2023-02-22 20:24:35.776320: W tensorflow/compiler/tf2tensorrt/utils/py_utils.cc:38] TF-TRT Warning: Cannot dlopen some TensorRT libraries. If you would like to use Nvidia GPU with TensorRT, please make sure the missing libraries mentioned above are installed properly.\n",
            "Setting BM25 parameters: k1=5.0, b=0.5\n",
            "Running queries.tsv topics, saving to runs/run_k1_5.0_b_0.5.txt...\n",
            "100% 112/112 [00:04<00:00, 23.20it/s]\n",
            "MAP =  0.12020373514431242\n",
            "Recall =  0.5332043701293925\n",
            "F-1 =  0.19618108917695645\n",
            "2023-02-22 20:24:48.568081: I tensorflow/core/platform/cpu_feature_guard.cc:193] This TensorFlow binary is optimized with oneAPI Deep Neural Network Library (oneDNN) to use the following CPU instructions in performance-critical operations:  AVX2 FMA\n",
            "To enable them in other operations, rebuild TensorFlow with the appropriate compiler flags.\n",
            "2023-02-22 20:24:49.781589: W tensorflow/compiler/xla/stream_executor/platform/default/dso_loader.cc:64] Could not load dynamic library 'libnvinfer.so.7'; dlerror: libnvinfer.so.7: cannot open shared object file: No such file or directory; LD_LIBRARY_PATH: /usr/local/nvidia/lib:/usr/local/nvidia/lib64\n",
            "2023-02-22 20:24:49.781716: W tensorflow/compiler/xla/stream_executor/platform/default/dso_loader.cc:64] Could not load dynamic library 'libnvinfer_plugin.so.7'; dlerror: libnvinfer_plugin.so.7: cannot open shared object file: No such file or directory; LD_LIBRARY_PATH: /usr/local/nvidia/lib:/usr/local/nvidia/lib64\n",
            "2023-02-22 20:24:49.781739: W tensorflow/compiler/tf2tensorrt/utils/py_utils.cc:38] TF-TRT Warning: Cannot dlopen some TensorRT libraries. If you would like to use Nvidia GPU with TensorRT, please make sure the missing libraries mentioned above are installed properly.\n",
            "Setting BM25 parameters: k1=5.0, b=0.75\n",
            "Running queries.tsv topics, saving to runs/run_k1_5.0_b_0.75.txt...\n",
            "100% 112/112 [00:04<00:00, 22.52it/s]\n",
            "MAP =  0.12054329371816634\n",
            "Recall =  0.5345129864221342\n",
            "F-1 =  0.19672189358953243\n",
            "2023-02-22 20:25:02.755310: I tensorflow/core/platform/cpu_feature_guard.cc:193] This TensorFlow binary is optimized with oneAPI Deep Neural Network Library (oneDNN) to use the following CPU instructions in performance-critical operations:  AVX2 FMA\n",
            "To enable them in other operations, rebuild TensorFlow with the appropriate compiler flags.\n",
            "2023-02-22 20:25:03.968171: W tensorflow/compiler/xla/stream_executor/platform/default/dso_loader.cc:64] Could not load dynamic library 'libnvinfer.so.7'; dlerror: libnvinfer.so.7: cannot open shared object file: No such file or directory; LD_LIBRARY_PATH: /usr/local/nvidia/lib:/usr/local/nvidia/lib64\n",
            "2023-02-22 20:25:03.968503: W tensorflow/compiler/xla/stream_executor/platform/default/dso_loader.cc:64] Could not load dynamic library 'libnvinfer_plugin.so.7'; dlerror: libnvinfer_plugin.so.7: cannot open shared object file: No such file or directory; LD_LIBRARY_PATH: /usr/local/nvidia/lib:/usr/local/nvidia/lib64\n",
            "2023-02-22 20:25:03.968547: W tensorflow/compiler/tf2tensorrt/utils/py_utils.cc:38] TF-TRT Warning: Cannot dlopen some TensorRT libraries. If you would like to use Nvidia GPU with TensorRT, please make sure the missing libraries mentioned above are installed properly.\n",
            "Setting BM25 parameters: k1=5.0, b=1.0\n",
            "Running queries.tsv topics, saving to runs/run_k1_5.0_b_1.0.txt...\n",
            "100% 112/112 [00:03<00:00, 34.23it/s]\n",
            "MAP =  0.11926994906621387\n",
            "Recall =  0.5290866872028729\n",
            "F-1 =  0.1946587378126517\n",
            "Best MAP =  0.12062818336162988\n",
            "Recall =  0.5336037653659043\n",
            "Best k1 =  3.0\n",
            "Best b =  0.75\n",
            "Best F-1 =  0.19677318717377837\n"
          ]
        }
      ]
    },
    {
      "cell_type": "markdown",
      "source": [
        "**Comments**: The best MAP value obtained here was around 12%, slightly better than the MAP value obtained by Rank BM25. Also, a significnt improvement was made to recall (around 31 percent points!), leading to an improvement of 8 percent points to F-1. Although not shown here, we evaluated the use of a fixed number of 155 returns for Rank BM25, but the results were worse, not even reaching 8% for MAP, which suggests that for that library the heuristic of returning the number of documents according to the percentiles of the scores generates better results."
      ],
      "metadata": {
        "id": "qXEnXhW2mugm"
      }
    },
    {
      "cell_type": "code",
      "source": [],
      "metadata": {
        "id": "nV4-4517mu_g"
      },
      "execution_count": null,
      "outputs": []
    }
  ]
}